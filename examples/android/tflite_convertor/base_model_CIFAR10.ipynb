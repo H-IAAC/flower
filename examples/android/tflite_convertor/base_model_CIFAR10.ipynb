{
 "cells": [
  {
   "cell_type": "markdown",
   "id": "09142599-d99c-4b84-ae6b-4ee2abc7df3a",
   "metadata": {},
   "source": [
    "**D3APL: Aplicações em Ciência de Dados** <br/>\n",
    "IFSP Campinas\n",
    "\n",
    "Prof. Dr. Samuel Martins (Samuka) <br/><br/>\n",
    "\n",
    "<a rel=\"license\" href=\"http://creativecommons.org/licenses/by-nc-sa/4.0/\"><img alt=\"Creative Commons License\" style=\"border-width:0\" src=\"https://i.creativecommons.org/l/by-nc-sa/4.0/88x31.png\" /></a><br />This work is licensed under a <a rel=\"license\" href=\"http://creativecommons.org/licenses/by-nc-sa/4.0/\">Creative Commons Attribution-NonCommercial-ShareAlike 4.0 International License</a>."
   ]
  },
  {
   "cell_type": "markdown",
   "id": "dbed1c92-5c77-4898-8cbb-e847af6f72cc",
   "metadata": {},
   "source": [
    "# Training our first CNN for Multiclass Image Classification"
   ]
  },
  {
   "cell_type": "markdown",
   "id": "d2fb8137-7b1b-42e9-b2e9-75711269596c",
   "metadata": {},
   "source": [
    "## 1. Set up"
   ]
  },
  {
   "cell_type": "markdown",
   "id": "a3542eb6-d992-499f-9ac6-8771676123c6",
   "metadata": {},
   "source": [
    "#### 1.1 TensorFlow + Keras"
   ]
  },
  {
   "cell_type": "code",
   "execution_count": 1,
   "id": "ab093db2-4853-44eb-b588-da0a71ad6dba",
   "metadata": {},
   "outputs": [],
   "source": [
    "import tensorflow as tf"
   ]
  },
  {
   "cell_type": "code",
   "execution_count": 2,
   "id": "9e36de08-c4c0-4632-af0b-bed7b64296ac",
   "metadata": {},
   "outputs": [
    {
     "data": {
      "text/plain": [
       "'2.9.1'"
      ]
     },
     "execution_count": 2,
     "metadata": {},
     "output_type": "execute_result"
    }
   ],
   "source": [
    "tf.__version__"
   ]
  },
  {
   "cell_type": "markdown",
   "id": "f55f5afb-ecab-48f1-ad12-de12d0c38e40",
   "metadata": {},
   "source": [
    "**GPU available?**"
   ]
  },
  {
   "cell_type": "code",
   "execution_count": 3,
   "id": "cf10151d-8abe-49f7-a1f2-9f4050d6dd6e",
   "metadata": {},
   "outputs": [
    {
     "name": "stdout",
     "output_type": "stream",
     "text": [
      "Num GPUs Available:  2\n"
     ]
    },
    {
     "name": "stderr",
     "output_type": "stream",
     "text": [
      "2022-06-27 18:07:24.748786: I tensorflow/stream_executor/cuda/cuda_gpu_executor.cc:975] successful NUMA node read from SysFS had negative value (-1), but there must be at least one NUMA node, so returning NUMA node zero\n",
      "2022-06-27 18:07:24.749009: I tensorflow/stream_executor/cuda/cuda_gpu_executor.cc:975] successful NUMA node read from SysFS had negative value (-1), but there must be at least one NUMA node, so returning NUMA node zero\n",
      "2022-06-27 18:07:24.854140: I tensorflow/stream_executor/cuda/cuda_gpu_executor.cc:975] successful NUMA node read from SysFS had negative value (-1), but there must be at least one NUMA node, so returning NUMA node zero\n",
      "2022-06-27 18:07:24.854467: I tensorflow/stream_executor/cuda/cuda_gpu_executor.cc:975] successful NUMA node read from SysFS had negative value (-1), but there must be at least one NUMA node, so returning NUMA node zero\n",
      "2022-06-27 18:07:24.854733: I tensorflow/stream_executor/cuda/cuda_gpu_executor.cc:975] successful NUMA node read from SysFS had negative value (-1), but there must be at least one NUMA node, so returning NUMA node zero\n",
      "2022-06-27 18:07:24.854989: I tensorflow/stream_executor/cuda/cuda_gpu_executor.cc:975] successful NUMA node read from SysFS had negative value (-1), but there must be at least one NUMA node, so returning NUMA node zero\n"
     ]
    }
   ],
   "source": [
    "import tensorflow as tf\n",
    "print(\"Num GPUs Available: \", len(tf.config.list_physical_devices('GPU')))"
   ]
  },
  {
   "cell_type": "markdown",
   "id": "4e17fb00-de23-48bd-ab8a-1b6cc9089043",
   "metadata": {},
   "source": [
    "### 1.2 Fixing the seed for reproducibility (optional)\n",
    "That's a try for reprodubility in Keras. See more on:\n",
    "- https://stackoverflow.com/a/59076062\n",
    "- https://machinelearningmastery.com/reproducible-results-neural-networks-keras/"
   ]
  },
  {
   "cell_type": "code",
   "execution_count": 4,
   "id": "41809176-c43b-4143-940e-e63e26394fe0",
   "metadata": {},
   "outputs": [],
   "source": [
    "import os\n",
    "import tensorflow as tf\n",
    "import numpy as np\n",
    "import random\n",
    "\n",
    "def reset_random_seeds(seed=42):\n",
    "    os.environ['PYTHONHASHSEED'] = str(seed)\n",
    "    tf.random.set_seed(seed)\n",
    "    np.random.seed(seed)\n",
    "    random.seed(seed)\n",
    "\n",
    "    \n",
    "# make some random data\n",
    "reset_random_seeds()"
   ]
  },
  {
   "cell_type": "markdown",
   "id": "47b3b9b6-207c-4b5a-a243-e68b490c7c1b",
   "metadata": {},
   "source": [
    "#### 1.3 Other imports"
   ]
  },
  {
   "cell_type": "code",
   "execution_count": 5,
   "id": "dd9377a2-d2d5-4c3b-825a-f389e6091be2",
   "metadata": {},
   "outputs": [],
   "source": [
    "import numpy as np\n",
    "import matplotlib.pyplot as plt"
   ]
  },
  {
   "cell_type": "markdown",
   "id": "231de637-e2aa-4d28-840a-d8c503f63b75",
   "metadata": {},
   "source": [
    "#### 1.4 CIFAR-10\n",
    "https://keras.io/api/datasets/cifar10/ <br/>\n",
    "https://en.wikipedia.org/wiki/CIFAR-10"
   ]
  },
  {
   "cell_type": "code",
   "execution_count": 6,
   "id": "665e9506-45a0-478b-ad77-5fdbea1a4fc9",
   "metadata": {},
   "outputs": [],
   "source": [
    "from tensorflow.keras.datasets import cifar10"
   ]
  },
  {
   "cell_type": "code",
   "execution_count": 7,
   "id": "7af01078-3198-47ec-913a-6806fd3910b9",
   "metadata": {},
   "outputs": [
    {
     "name": "stdout",
     "output_type": "stream",
     "text": [
      "Downloading data from https://www.cs.toronto.edu/~kriz/cifar-10-python.tar.gz\n",
      "170498071/170498071 [==============================] - 11s 0us/step\n"
     ]
    }
   ],
   "source": [
    "(X_train, y_train), (X_test, y_test) = cifar10.load_data()"
   ]
  },
  {
   "cell_type": "markdown",
   "id": "29a052da-0820-4a38-8456-e0508e61cf65",
   "metadata": {},
   "source": [
    "The dataset is already split into a training set and a test set."
   ]
  },
  {
   "cell_type": "code",
   "execution_count": 8,
   "id": "834d107e-754a-4586-91dd-275e3d8d059c",
   "metadata": {},
   "outputs": [
    {
     "data": {
      "text/plain": [
       "['cifar-10-batches-py', 'cifar-10-batches-py.tar.gz']"
      ]
     },
     "execution_count": 8,
     "metadata": {},
     "output_type": "execute_result"
    }
   ],
   "source": [
    "# download done in folder: \"~/.keras/datasets\"\n",
    "import os\n",
    "os.listdir(os.path.expanduser('~/.keras/datasets'))"
   ]
  },
  {
   "cell_type": "code",
   "execution_count": 9,
   "id": "4aacde3d-5483-468b-9965-d6800199fef9",
   "metadata": {},
   "outputs": [
    {
     "name": "stdout",
     "output_type": "stream",
     "text": [
      "X_train.shape: (50000, 32, 32, 3)\n",
      "y_train.shape: (50000, 1)\n",
      "\n",
      "X_test.shape: (10000, 32, 32, 3)\n",
      "y_test.shape: (10000, 1)\n"
     ]
    }
   ],
   "source": [
    "print(f'X_train.shape: {X_train.shape}')\n",
    "print(f'y_train.shape: {y_train.shape}\\n')\n",
    "\n",
    "print(f'X_test.shape: {X_test.shape}')\n",
    "print(f'y_test.shape: {y_test.shape}')"
   ]
  },
  {
   "cell_type": "code",
   "execution_count": 10,
   "id": "03505222-13d1-466a-accd-6203768047b5",
   "metadata": {},
   "outputs": [],
   "source": [
    "# reshape labels\n",
    "y_train = y_train.ravel()\n",
    "y_test = y_test.ravel()"
   ]
  },
  {
   "cell_type": "code",
   "execution_count": 11,
   "id": "f41ab7e2-d2e0-4f59-993f-5225211a81f8",
   "metadata": {},
   "outputs": [
    {
     "name": "stdout",
     "output_type": "stream",
     "text": [
      "y_train.shape: (50000,)\n",
      "y_test.shape: (10000,)\n"
     ]
    }
   ],
   "source": [
    "print(f'y_train.shape: {y_train.shape}')\n",
    "print(f'y_test.shape: {y_test.shape}')"
   ]
  },
  {
   "cell_type": "code",
   "execution_count": 12,
   "id": "e1cf3eb2-3952-4bec-bc90-362428e990fc",
   "metadata": {},
   "outputs": [
    {
     "name": "stdout",
     "output_type": "stream",
     "text": [
      "Number of Classes: 10\n",
      "Classes: [0 1 2 3 4 5 6 7 8 9]\n"
     ]
    }
   ],
   "source": [
    "print(f'Number of Classes: {np.unique(y_train).shape[0]}')\n",
    "print(f'Classes: {np.unique(y_train)}')"
   ]
  },
  {
   "cell_type": "code",
   "execution_count": 13,
   "id": "445f7cbc-6270-4b4e-ae1f-c46408d5d236",
   "metadata": {},
   "outputs": [
    {
     "data": {
      "text/plain": [
       "['airplane',\n",
       " 'automobile',\n",
       " 'bird',\n",
       " 'cat',\n",
       " 'deer',\n",
       " 'dog',\n",
       " 'frog',\n",
       " 'horse',\n",
       " 'ship',\n",
       " 'truck']"
      ]
     },
     "execution_count": 13,
     "metadata": {},
     "output_type": "execute_result"
    }
   ],
   "source": [
    "class_names = [\"airplane\", \"automobile\", \"bird\", \"cat\", \"deer\", \"dog\", \"frog\", \"horse\", \"ship\", \"truck\"]\n",
    "class_names"
   ]
  },
  {
   "cell_type": "code",
   "execution_count": 14,
   "id": "253161c7-ffeb-459a-b391-cc2908598fcd",
   "metadata": {},
   "outputs": [
    {
     "data": {
      "text/plain": [
       "(50000,)"
      ]
     },
     "execution_count": 14,
     "metadata": {},
     "output_type": "execute_result"
    }
   ],
   "source": [
    "y_train.shape"
   ]
  },
  {
   "cell_type": "code",
   "execution_count": 15,
   "id": "7c4c8ba7-6842-450f-86e2-99c6669f7b1c",
   "metadata": {},
   "outputs": [
    {
     "data": {
      "image/png": "[encoded data removed]",
      "text/plain": [
       "<Figure size 720x216 with 4 Axes>"
      ]
     },
     "metadata": {
      "needs_background": "light"
     },
     "output_type": "display_data"
    }
   ],
   "source": [
    "_, axes = plt.subplots(nrows=1, ncols=4, figsize=(10, 3))\n",
    "for ax, image, label in zip(axes, X_train, y_train):\n",
    "    ax.set_axis_off()\n",
    "    ax.imshow(image)\n",
    "    ax.set_title(f'Image: {class_names[label]}')"
   ]
  },
  {
   "cell_type": "code",
   "execution_count": 16,
   "id": "6bfb14c2-e805-48e0-b39a-bca995b85dd9",
   "metadata": {},
   "outputs": [
    {
     "name": "stdout",
     "output_type": "stream",
     "text": [
      "Min. value of X_train: 0\n",
      "Max. value of X_train: 255\n",
      "\n",
      "Min. value of X_test: 0\n",
      "Max. value of X_test: 255\n"
     ]
    }
   ],
   "source": [
    "# 24-bit color scale\n",
    "print(f'Min. value of X_train: {X_train.min()}')\n",
    "print(f'Max. value of X_train: {X_train.max()}\\n')\n",
    "\n",
    "print(f'Min. value of X_test: {X_train.min()}')\n",
    "print(f'Max. value of X_test: {X_train.max()}')"
   ]
  },
  {
   "cell_type": "markdown",
   "id": "e8fcb542-031b-4f43-a32e-cc095cc1857b",
   "metadata": {},
   "source": [
    "#### 1.5 (Simple) Feature scaling\n",
    "Since we are going to train the neural network using _Gradient Descent_, we must scale the **input features**. For simplicity, we’ll scale the pixel intensities down to the _0–1_ range by dividing them by **255.0** (8-bit gray image):"
   ]
  },
  {
   "cell_type": "code",
   "execution_count": 17,
   "id": "f955f1b1-3ed9-4dad-a05e-fd8b83e19002",
   "metadata": {},
   "outputs": [],
   "source": [
    "X_train = X_train / 255.0\n",
    "X_test = X_test / 255.0"
   ]
  },
  {
   "cell_type": "code",
   "execution_count": 18,
   "id": "26ece1f5-7d6a-4406-bd16-6a6d8017cf1d",
   "metadata": {},
   "outputs": [
    {
     "name": "stdout",
     "output_type": "stream",
     "text": [
      "Min. value of X_train: 0.0\n",
      "Max. value of X_train: 1.0\n",
      "\n",
      "Min. value of X_test: 0.0\n",
      "Max. value of X_test: 1.0\n"
     ]
    }
   ],
   "source": [
    "# rescaled 8-bit gray scale\n",
    "print(f'Min. value of X_train: {X_train.min()}')\n",
    "print(f'Max. value of X_train: {X_train.max()}\\n')\n",
    "\n",
    "print(f'Min. value of X_test: {X_test.min()}')\n",
    "print(f'Max. value of X_test: {X_test.max()}')"
   ]
  },
  {
   "cell_type": "markdown",
   "id": "4ed90771-4316-4286-89b7-8bbe077db038",
   "metadata": {},
   "source": [
    "## 2. Building and Training a CNN via Keras"
   ]
  },
  {
   "cell_type": "markdown",
   "id": "692f75c8-57b8-4d7f-914b-1369e60cdb19",
   "metadata": {},
   "source": [
    "### 2.1 Defining the Network Architecture\n",
    "Proposed architecture for Multiclass Classification:\n",
    "- INPUT [32x32x3]\n",
    "- CONV [32, 4x4x3, 'valid']\n",
    "- RELU\n",
    "- MAX_POOL [2x2, stride=(2,2)]\n",
    "- CONV [32, 4x4x32, 'valid']\n",
    "- RELU\n",
    "- MAX_POOL [2x2, stride=(2,2)]\n",
    "- FLATTEN\n",
    "- FC [256]\n",
    "- RELU\n",
    "- FC [10, 'softmax']\n",
    "\n",
    "\n",
    "- optimizer: SGD with `learning_rate=0.05`\n",
    "- kernel_initializer: \"glorot_uniform\"\n",
    "- bias_initializer: \"zeros\"\n",
    "- **No regularization**"
   ]
  },
  {
   "cell_type": "markdown",
   "id": "4da9ced7-ea7e-4fac-bd1c-bc82851067a9",
   "metadata": {
    "tags": []
   },
   "source": [
    "#### **Defining the Network's Architecture**"
   ]
  },
  {
   "cell_type": "code",
   "execution_count": 19,
   "id": "5c1dbeb7-b314-4497-84c2-fbe3e7bed327",
   "metadata": {},
   "outputs": [
    {
     "name": "stdout",
     "output_type": "stream",
     "text": [
      "X_train.shape: (50000, 32, 32, 3)\n",
      "X_test.shape: (10000, 32, 32, 3)\n"
     ]
    }
   ],
   "source": [
    "print(f'X_train.shape: {X_train.shape}')\n",
    "print(f'X_test.shape: {X_test.shape}')"
   ]
  },
  {
   "cell_type": "code",
   "execution_count": 20,
   "id": "01ce1d0b-a7e9-438b-9301-8668a5ac908f",
   "metadata": {},
   "outputs": [
    {
     "data": {
      "text/plain": [
       "(32, 32, 3)"
      ]
     },
     "execution_count": 20,
     "metadata": {},
     "output_type": "execute_result"
    }
   ],
   "source": [
    "input_shape = X_train.shape[1:]\n",
    "input_shape"
   ]
  },
  {
   "cell_type": "code",
   "execution_count": 122,
   "id": "3ff40b8a-dede-4a4e-9918-f45319e03d4c",
   "metadata": {},
   "outputs": [],
   "source": [
    "from tensorflow.keras import Sequential\n",
    "from tensorflow.keras.layers import Conv2D, MaxPooling2D, Flatten, Dense\n",
    "\n",
    "def build_first_cnn():\n",
    "    # base model\n",
    "    model = tf.keras.Sequential(\n",
    "      [\n",
    "        tf.keras.Input(shape=(32, 32, 3)),\n",
    "            tf.keras.layers.Conv2D(filters=32, kernel_size=(4, 4), input_shape=input_shape, activation=\"relu\"),\n",
    "        tf.keras.layers.MaxPooling2D(pool_size=(2, 2)),\n",
    "        tf.keras.layers.Conv2D(filters=32, kernel_size=(4, 4), activation=\"relu\"),\n",
    "        tf.keras.layers.Flatten(),\n",
    "        tf.keras.layers.Dense(units=120, activation=\"relu\"),\n",
    "        tf.keras.layers.Dense(units=84, name='bottleneck_layer', activation=\"relu\"),\n",
    "        tf.keras.layers.Dense(units=10, activation=\"softmax\"),\n",
    "      ])\n",
    "    \n",
    "    return model\n"
   ]
  },
  {
   "cell_type": "code",
   "execution_count": 123,
   "id": "c17a4f68-0316-4aed-adb6-98a7c6ec0bb2",
   "metadata": {},
   "outputs": [],
   "source": [
    "model = build_first_cnn()"
   ]
  },
  {
   "cell_type": "code",
   "execution_count": 124,
   "id": "77925152-bc32-4433-bf86-8337c636aa07",
   "metadata": {},
   "outputs": [
    {
     "name": "stdout",
     "output_type": "stream",
     "text": [
      "Model: \"sequential_12\"\n",
      "_________________________________________________________________\n",
      " Layer (type)                Output Shape              Param #   \n",
      "=================================================================\n",
      " conv2d_24 (Conv2D)          (None, 29, 29, 32)        1568      \n",
      "                                                                 \n",
      " max_pooling2d_15 (MaxPoolin  (None, 14, 14, 32)       0         \n",
      " g2D)                                                            \n",
      "                                                                 \n",
      " conv2d_25 (Conv2D)          (None, 11, 11, 32)        16416     \n",
      "                                                                 \n",
      " flatten_12 (Flatten)        (None, 3872)              0         \n",
      "                                                                 \n",
      " dense_30 (Dense)            (None, 120)               464760    \n",
      "                                                                 \n",
      " bottleneck_layer (Dense)    (None, 84)                10164     \n",
      "                                                                 \n",
      " dense_31 (Dense)            (None, 10)                850       \n",
      "                                                                 \n",
      "=================================================================\n",
      "Total params: 493,758\n",
      "Trainable params: 493,758\n",
      "Non-trainable params: 0\n",
      "_________________________________________________________________\n"
     ]
    }
   ],
   "source": [
    "model.summary()"
   ]
  },
  {
   "cell_type": "markdown",
   "id": "b83a1102-71c6-449e-8612-5278665014dc",
   "metadata": {},
   "source": [
    "### Visualizing the Architecture"
   ]
  },
  {
   "cell_type": "markdown",
   "id": "9650b008-41bb-4b2c-9a9a-9024a2498923",
   "metadata": {},
   "source": [
    "#### Native Keras Function: `plot_model`\n",
    "https://www.tensorflow.org/api_docs/python/tf/keras/utils/plot_model\n",
    "\n",
    "Requirements:\n",
    "- `graphviz` software for graph visualization\n",
    "  + `sudo apt-get install graphviz`\n",
    "  + `pip install graphviz`\n",
    "- `pip install pydot`"
   ]
  },
  {
   "cell_type": "markdown",
   "id": "0a85c983-328c-4c21-aaf2-c7feb5bfe523",
   "metadata": {},
   "source": [
    "### 2.2 Compiling: Defining the Loss Function, Optimizer, and Metrics"
   ]
  },
  {
   "cell_type": "markdown",
   "id": "c5c0d544-4ed1-45ae-b27b-4979f80bae9b",
   "metadata": {},
   "source": [
    "#### **Loss:**"
   ]
  },
  {
   "cell_type": "markdown",
   "id": "197f6299-2d6a-454f-8ab1-871cd230a7f8",
   "metadata": {},
   "source": [
    "- `'binary_crossentropy'`: _binary classification_\n",
    "    + E.g.: One or more binary labels, _sigmoid_ as activation function.\n",
    "- `'categorical_crossentropy'`: _multiclass classification_, classes as **one-hot vectors**\n",
    "    + E.g.: [0., 0., 0., 1., 0., 0., 0., 0., 0., 0.] to represent class 3 out of 10 classes\n",
    "- `'sparse_categorical_crossentropy'`: _multiclass classification_, classes as **sparse labels**:\n",
    "    + E.g.: 1, 2, 3, ..., 9, 10\n"
   ]
  },
  {
   "cell_type": "code",
   "execution_count": 125,
   "id": "d7be8c98-8dc9-4957-ba6c-a81c90801acb",
   "metadata": {
    "tags": []
   },
   "outputs": [],
   "source": [
    "# https://keras.io/api/optimizers/sgd/\n",
    "from tensorflow.keras.optimizers import SGD\n",
    "opt = SGD(learning_rate=1e-3)\n",
    "\n",
    "model.compile(loss='sparse_categorical_crossentropy', metrics=['accuracy'], optimizer=opt)"
   ]
  },
  {
   "cell_type": "code",
   "execution_count": 126,
   "id": "d80f5275-9699-4d18-b0b8-c9cbcc6e1d39",
   "metadata": {},
   "outputs": [
    {
     "data": {
      "text/plain": [
       "[<keras.layers.convolutional.conv2d.Conv2D at 0x7f5ab0ea5bb0>,\n",
       " <keras.layers.pooling.max_pooling2d.MaxPooling2D at 0x7f5ab0c08ee0>,\n",
       " <keras.layers.convolutional.conv2d.Conv2D at 0x7f5b4c13cd30>,\n",
       " <keras.layers.reshaping.flatten.Flatten at 0x7f5b44707490>,\n",
       " <keras.layers.core.dense.Dense at 0x7f5ab0f981c0>,\n",
       " <keras.layers.core.dense.Dense at 0x7f5ab0f98820>,\n",
       " <keras.layers.core.dense.Dense at 0x7f5ab1491fa0>]"
      ]
     },
     "execution_count": 126,
     "metadata": {},
     "output_type": "execute_result"
    }
   ],
   "source": [
    "model.layers"
   ]
  },
  {
   "cell_type": "markdown",
   "id": "16b1b6ce-3283-46ee-83d1-cce66271eddb",
   "metadata": {},
   "source": [
    "### 2.3 Training\n",
    "\n",
    "In case of GPU drivers, we can monitor its use by [_gpustat_](https://github.com/wookayin/gpustat).\n",
    "\n",
    "On terminal, use: `gpustat -cpi`\n"
   ]
  },
  {
   "cell_type": "code",
   "execution_count": 127,
   "id": "a8580290-0b32-43ac-a33d-735d11c6682a",
   "metadata": {},
   "outputs": [
    {
     "name": "stdout",
     "output_type": "stream",
     "text": [
      "Epoch 1/200\n",
      "1250/1250 [==============================] - 4s 3ms/step - loss: 2.2937 - accuracy: 0.1101 - val_loss: 2.2772 - val_accuracy: 0.1385\n",
      "Epoch 2/200\n",
      "1250/1250 [==============================] - 3s 2ms/step - loss: 2.2308 - accuracy: 0.1946 - val_loss: 2.1557 - val_accuracy: 0.2302\n",
      "Epoch 3/200\n",
      "1250/1250 [==============================] - 3s 2ms/step - loss: 2.0431 - accuracy: 0.2718 - val_loss: 1.9748 - val_accuracy: 0.2920\n",
      "Epoch 4/200\n",
      "1250/1250 [==============================] - 3s 2ms/step - loss: 1.9265 - accuracy: 0.3103 - val_loss: 1.9024 - val_accuracy: 0.3269\n",
      "Epoch 5/200\n",
      "1250/1250 [==============================] - 3s 2ms/step - loss: 1.8663 - accuracy: 0.3345 - val_loss: 1.8465 - val_accuracy: 0.3444\n",
      "Epoch 6/200\n",
      "1250/1250 [==============================] - 3s 2ms/step - loss: 1.8081 - accuracy: 0.3596 - val_loss: 1.7900 - val_accuracy: 0.3690\n",
      "Epoch 7/200\n",
      "1250/1250 [==============================] - 3s 2ms/step - loss: 1.7480 - accuracy: 0.3827 - val_loss: 1.7355 - val_accuracy: 0.3864\n",
      "Epoch 8/200\n",
      "1250/1250 [==============================] - 3s 2ms/step - loss: 1.6928 - accuracy: 0.3999 - val_loss: 1.6811 - val_accuracy: 0.4060\n",
      "Epoch 9/200\n",
      "1250/1250 [==============================] - 3s 2ms/step - loss: 1.6451 - accuracy: 0.4123 - val_loss: 1.6416 - val_accuracy: 0.4170\n",
      "Epoch 10/200\n",
      "1250/1250 [==============================] - 3s 2ms/step - loss: 1.6042 - accuracy: 0.4279 - val_loss: 1.6047 - val_accuracy: 0.4295\n",
      "Epoch 11/200\n",
      "1250/1250 [==============================] - 3s 2ms/step - loss: 1.5715 - accuracy: 0.4389 - val_loss: 1.5699 - val_accuracy: 0.4433\n",
      "Epoch 12/200\n",
      "1250/1250 [==============================] - 3s 2ms/step - loss: 1.5445 - accuracy: 0.4472 - val_loss: 1.5383 - val_accuracy: 0.4545\n",
      "Epoch 13/200\n",
      "1250/1250 [==============================] - 3s 2ms/step - loss: 1.5212 - accuracy: 0.4564 - val_loss: 1.5364 - val_accuracy: 0.4501\n",
      "Epoch 14/200\n",
      "1250/1250 [==============================] - 3s 2ms/step - loss: 1.4984 - accuracy: 0.4651 - val_loss: 1.5213 - val_accuracy: 0.4584\n",
      "Epoch 15/200\n",
      "1250/1250 [==============================] - 3s 2ms/step - loss: 1.4795 - accuracy: 0.4738 - val_loss: 1.4884 - val_accuracy: 0.4761\n",
      "Epoch 16/200\n",
      "1250/1250 [==============================] - 3s 2ms/step - loss: 1.4601 - accuracy: 0.4824 - val_loss: 1.4745 - val_accuracy: 0.4761\n",
      "Epoch 17/200\n",
      "1250/1250 [==============================] - 3s 2ms/step - loss: 1.4417 - accuracy: 0.4858 - val_loss: 1.4680 - val_accuracy: 0.4785\n",
      "Epoch 18/200\n",
      "1250/1250 [==============================] - 3s 2ms/step - loss: 1.4234 - accuracy: 0.4934 - val_loss: 1.4356 - val_accuracy: 0.4882\n",
      "Epoch 19/200\n",
      "1250/1250 [==============================] - 3s 2ms/step - loss: 1.4052 - accuracy: 0.4986 - val_loss: 1.4304 - val_accuracy: 0.4943\n",
      "Epoch 20/200\n",
      "1250/1250 [==============================] - 3s 2ms/step - loss: 1.3875 - accuracy: 0.5068 - val_loss: 1.4058 - val_accuracy: 0.4972\n",
      "Epoch 21/200\n",
      "1250/1250 [==============================] - 3s 2ms/step - loss: 1.3718 - accuracy: 0.5134 - val_loss: 1.3883 - val_accuracy: 0.5065\n",
      "Epoch 22/200\n",
      "1250/1250 [==============================] - 3s 2ms/step - loss: 1.3534 - accuracy: 0.5188 - val_loss: 1.3874 - val_accuracy: 0.5086\n",
      "Epoch 23/200\n",
      "1250/1250 [==============================] - 3s 2ms/step - loss: 1.3399 - accuracy: 0.5236 - val_loss: 1.3699 - val_accuracy: 0.5167\n",
      "Epoch 24/200\n",
      "1250/1250 [==============================] - 3s 2ms/step - loss: 1.3238 - accuracy: 0.5302 - val_loss: 1.4382 - val_accuracy: 0.4921\n",
      "Epoch 25/200\n",
      "1250/1250 [==============================] - 3s 2ms/step - loss: 1.3107 - accuracy: 0.5354 - val_loss: 1.3904 - val_accuracy: 0.5093\n",
      "Epoch 26/200\n",
      "1250/1250 [==============================] - 3s 2ms/step - loss: 1.2967 - accuracy: 0.5415 - val_loss: 1.3127 - val_accuracy: 0.5376\n",
      "Epoch 27/200\n",
      "1250/1250 [==============================] - 3s 2ms/step - loss: 1.2840 - accuracy: 0.5454 - val_loss: 1.3161 - val_accuracy: 0.5374\n",
      "Epoch 28/200\n",
      "1250/1250 [==============================] - 3s 2ms/step - loss: 1.2710 - accuracy: 0.5515 - val_loss: 1.3045 - val_accuracy: 0.5410\n",
      "Epoch 29/200\n",
      "1250/1250 [==============================] - 3s 2ms/step - loss: 1.2600 - accuracy: 0.5563 - val_loss: 1.2898 - val_accuracy: 0.5436\n",
      "Epoch 30/200\n",
      "1250/1250 [==============================] - 3s 2ms/step - loss: 1.2476 - accuracy: 0.5577 - val_loss: 1.2856 - val_accuracy: 0.5482\n",
      "Epoch 31/200\n",
      "1250/1250 [==============================] - 3s 2ms/step - loss: 1.2388 - accuracy: 0.5617 - val_loss: 1.2771 - val_accuracy: 0.5521\n",
      "Epoch 32/200\n",
      "1250/1250 [==============================] - 3s 2ms/step - loss: 1.2248 - accuracy: 0.5700 - val_loss: 1.2622 - val_accuracy: 0.5562\n",
      "Epoch 33/200\n",
      "1250/1250 [==============================] - 3s 2ms/step - loss: 1.2140 - accuracy: 0.5730 - val_loss: 1.2983 - val_accuracy: 0.5354\n",
      "Epoch 34/200\n",
      "1250/1250 [==============================] - 3s 2ms/step - loss: 1.2037 - accuracy: 0.5761 - val_loss: 1.2576 - val_accuracy: 0.5574\n",
      "Epoch 35/200\n",
      "1250/1250 [==============================] - 3s 2ms/step - loss: 1.1931 - accuracy: 0.5780 - val_loss: 1.2406 - val_accuracy: 0.5614\n",
      "Epoch 36/200\n",
      "1250/1250 [==============================] - 3s 2ms/step - loss: 1.1843 - accuracy: 0.5815 - val_loss: 1.2704 - val_accuracy: 0.5529\n",
      "Epoch 37/200\n",
      "1250/1250 [==============================] - 3s 2ms/step - loss: 1.1743 - accuracy: 0.5866 - val_loss: 1.2253 - val_accuracy: 0.5706\n",
      "Epoch 38/200\n",
      "1250/1250 [==============================] - 3s 2ms/step - loss: 1.1662 - accuracy: 0.5893 - val_loss: 1.2194 - val_accuracy: 0.5752\n",
      "Epoch 39/200\n",
      "1250/1250 [==============================] - 3s 2ms/step - loss: 1.1552 - accuracy: 0.5929 - val_loss: 1.2503 - val_accuracy: 0.5588\n",
      "Epoch 40/200\n",
      "1250/1250 [==============================] - 3s 2ms/step - loss: 1.1479 - accuracy: 0.5964 - val_loss: 1.2325 - val_accuracy: 0.5631\n",
      "Epoch 41/200\n",
      "1250/1250 [==============================] - 3s 2ms/step - loss: 1.1389 - accuracy: 0.5990 - val_loss: 1.2180 - val_accuracy: 0.5694\n",
      "Epoch 42/200\n",
      "1250/1250 [==============================] - 3s 2ms/step - loss: 1.1312 - accuracy: 0.6025 - val_loss: 1.1901 - val_accuracy: 0.5822\n",
      "Epoch 43/200\n",
      "1250/1250 [==============================] - 3s 2ms/step - loss: 1.1220 - accuracy: 0.6044 - val_loss: 1.1919 - val_accuracy: 0.5817\n",
      "Epoch 44/200\n",
      "1250/1250 [==============================] - 3s 2ms/step - loss: 1.1134 - accuracy: 0.6090 - val_loss: 1.1946 - val_accuracy: 0.5822\n",
      "Epoch 45/200\n",
      "1250/1250 [==============================] - 3s 2ms/step - loss: 1.1046 - accuracy: 0.6116 - val_loss: 1.2059 - val_accuracy: 0.5736\n",
      "Epoch 46/200\n",
      "1250/1250 [==============================] - 3s 2ms/step - loss: 1.0974 - accuracy: 0.6143 - val_loss: 1.1849 - val_accuracy: 0.5841\n",
      "Epoch 47/200\n",
      "1250/1250 [==============================] - 3s 2ms/step - loss: 1.0874 - accuracy: 0.6183 - val_loss: 1.1731 - val_accuracy: 0.5888\n",
      "Epoch 48/200\n",
      "1250/1250 [==============================] - 3s 2ms/step - loss: 1.0804 - accuracy: 0.6220 - val_loss: 1.1662 - val_accuracy: 0.5898\n",
      "Epoch 49/200\n",
      "1250/1250 [==============================] - 3s 2ms/step - loss: 1.0739 - accuracy: 0.6249 - val_loss: 1.1691 - val_accuracy: 0.5934\n",
      "Epoch 50/200\n",
      "1250/1250 [==============================] - 3s 2ms/step - loss: 1.0660 - accuracy: 0.6253 - val_loss: 1.1554 - val_accuracy: 0.5920\n",
      "Epoch 51/200\n",
      "1250/1250 [==============================] - 3s 2ms/step - loss: 1.0572 - accuracy: 0.6290 - val_loss: 1.1689 - val_accuracy: 0.5899\n",
      "Epoch 52/200\n",
      "1250/1250 [==============================] - 3s 2ms/step - loss: 1.0489 - accuracy: 0.6334 - val_loss: 1.1591 - val_accuracy: 0.5931\n",
      "Epoch 53/200\n",
      "1250/1250 [==============================] - 3s 2ms/step - loss: 1.0416 - accuracy: 0.6367 - val_loss: 1.1446 - val_accuracy: 0.6009\n",
      "Epoch 54/200\n",
      "1250/1250 [==============================] - 3s 2ms/step - loss: 1.0339 - accuracy: 0.6406 - val_loss: 1.1536 - val_accuracy: 0.5955\n",
      "Epoch 55/200\n",
      "1250/1250 [==============================] - 3s 2ms/step - loss: 1.0262 - accuracy: 0.6431 - val_loss: 1.1281 - val_accuracy: 0.6085\n",
      "Epoch 56/200\n",
      "1250/1250 [==============================] - 3s 2ms/step - loss: 1.0200 - accuracy: 0.6425 - val_loss: 1.1293 - val_accuracy: 0.6049\n",
      "Epoch 57/200\n",
      "1250/1250 [==============================] - 3s 2ms/step - loss: 1.0123 - accuracy: 0.6480 - val_loss: 1.1467 - val_accuracy: 0.6026\n",
      "Epoch 58/200\n",
      "1250/1250 [==============================] - 3s 2ms/step - loss: 1.0038 - accuracy: 0.6483 - val_loss: 1.1401 - val_accuracy: 0.6008\n",
      "Epoch 59/200\n",
      "1250/1250 [==============================] - 3s 2ms/step - loss: 0.9969 - accuracy: 0.6517 - val_loss: 1.1244 - val_accuracy: 0.6083\n",
      "Epoch 60/200\n",
      "1250/1250 [==============================] - 3s 2ms/step - loss: 0.9899 - accuracy: 0.6558 - val_loss: 1.1173 - val_accuracy: 0.6111\n",
      "Epoch 61/200\n",
      "1250/1250 [==============================] - 3s 2ms/step - loss: 0.9820 - accuracy: 0.6574 - val_loss: 1.1070 - val_accuracy: 0.6125\n",
      "Epoch 62/200\n",
      "1250/1250 [==============================] - 3s 2ms/step - loss: 0.9750 - accuracy: 0.6617 - val_loss: 1.1209 - val_accuracy: 0.6146\n",
      "Epoch 63/200\n",
      "1250/1250 [==============================] - 3s 2ms/step - loss: 0.9664 - accuracy: 0.6620 - val_loss: 1.1035 - val_accuracy: 0.6174\n",
      "Epoch 64/200\n",
      "1250/1250 [==============================] - 3s 2ms/step - loss: 0.9598 - accuracy: 0.6668 - val_loss: 1.1138 - val_accuracy: 0.6071\n",
      "Epoch 65/200\n",
      "1250/1250 [==============================] - 3s 2ms/step - loss: 0.9508 - accuracy: 0.6700 - val_loss: 1.1071 - val_accuracy: 0.6145\n",
      "Epoch 66/200\n",
      "1250/1250 [==============================] - 3s 2ms/step - loss: 0.9468 - accuracy: 0.6709 - val_loss: 1.1050 - val_accuracy: 0.6149\n",
      "Epoch 67/200\n",
      "1250/1250 [==============================] - 3s 2ms/step - loss: 0.9392 - accuracy: 0.6728 - val_loss: 1.0842 - val_accuracy: 0.6232\n",
      "Epoch 68/200\n",
      "1250/1250 [==============================] - 3s 2ms/step - loss: 0.9291 - accuracy: 0.6769 - val_loss: 1.0775 - val_accuracy: 0.6285\n",
      "Epoch 69/200\n",
      "1250/1250 [==============================] - 3s 2ms/step - loss: 0.9240 - accuracy: 0.6787 - val_loss: 1.1178 - val_accuracy: 0.6108\n",
      "Epoch 70/200\n",
      "1250/1250 [==============================] - 3s 2ms/step - loss: 0.9158 - accuracy: 0.6834 - val_loss: 1.0981 - val_accuracy: 0.6181\n",
      "Epoch 71/200\n",
      "1250/1250 [==============================] - 3s 2ms/step - loss: 0.9086 - accuracy: 0.6846 - val_loss: 1.0892 - val_accuracy: 0.6226\n",
      "Epoch 72/200\n",
      "1250/1250 [==============================] - 3s 2ms/step - loss: 0.9007 - accuracy: 0.6866 - val_loss: 1.0733 - val_accuracy: 0.6302\n",
      "Epoch 73/200\n",
      "1250/1250 [==============================] - 3s 2ms/step - loss: 0.8935 - accuracy: 0.6897 - val_loss: 1.0743 - val_accuracy: 0.6225\n",
      "Epoch 74/200\n",
      "1250/1250 [==============================] - 3s 2ms/step - loss: 0.8872 - accuracy: 0.6939 - val_loss: 1.0901 - val_accuracy: 0.6281\n",
      "Epoch 75/200\n",
      "1250/1250 [==============================] - 3s 2ms/step - loss: 0.8791 - accuracy: 0.6949 - val_loss: 1.0701 - val_accuracy: 0.6314\n",
      "Epoch 76/200\n",
      "1250/1250 [==============================] - 3s 2ms/step - loss: 0.8724 - accuracy: 0.6980 - val_loss: 1.0621 - val_accuracy: 0.6331\n",
      "Epoch 77/200\n",
      "1250/1250 [==============================] - 3s 2ms/step - loss: 0.8645 - accuracy: 0.7005 - val_loss: 1.1072 - val_accuracy: 0.6177\n",
      "Epoch 78/200\n",
      "1250/1250 [==============================] - 3s 2ms/step - loss: 0.8584 - accuracy: 0.7037 - val_loss: 1.0759 - val_accuracy: 0.6303\n",
      "Epoch 79/200\n",
      "1250/1250 [==============================] - 3s 2ms/step - loss: 0.8503 - accuracy: 0.7047 - val_loss: 1.0589 - val_accuracy: 0.6354\n",
      "Epoch 80/200\n",
      "1250/1250 [==============================] - 3s 2ms/step - loss: 0.8441 - accuracy: 0.7060 - val_loss: 1.0493 - val_accuracy: 0.6399\n",
      "Epoch 81/200\n",
      "1250/1250 [==============================] - 3s 2ms/step - loss: 0.8365 - accuracy: 0.7082 - val_loss: 1.0695 - val_accuracy: 0.6283\n",
      "Epoch 82/200\n",
      "1250/1250 [==============================] - 3s 2ms/step - loss: 0.8287 - accuracy: 0.7153 - val_loss: 1.0636 - val_accuracy: 0.6348\n",
      "Epoch 83/200\n",
      "1250/1250 [==============================] - 3s 2ms/step - loss: 0.8220 - accuracy: 0.7159 - val_loss: 1.0718 - val_accuracy: 0.6315\n",
      "Epoch 84/200\n",
      "1250/1250 [==============================] - 3s 2ms/step - loss: 0.8157 - accuracy: 0.7171 - val_loss: 1.0606 - val_accuracy: 0.6417\n",
      "Epoch 85/200\n",
      "1250/1250 [==============================] - 3s 2ms/step - loss: 0.8072 - accuracy: 0.7208 - val_loss: 1.0854 - val_accuracy: 0.6328\n",
      "Epoch 86/200\n",
      "1250/1250 [==============================] - 3s 2ms/step - loss: 0.8002 - accuracy: 0.7234 - val_loss: 1.0562 - val_accuracy: 0.6365\n",
      "Epoch 87/200\n",
      "1250/1250 [==============================] - 3s 2ms/step - loss: 0.7927 - accuracy: 0.7226 - val_loss: 1.0534 - val_accuracy: 0.6388\n",
      "Epoch 88/200\n",
      "1250/1250 [==============================] - 3s 2ms/step - loss: 0.7867 - accuracy: 0.7273 - val_loss: 1.0599 - val_accuracy: 0.6371\n",
      "Epoch 89/200\n",
      "1250/1250 [==============================] - 3s 2ms/step - loss: 0.7802 - accuracy: 0.7296 - val_loss: 1.0609 - val_accuracy: 0.6371\n",
      "Epoch 90/200\n",
      "1250/1250 [==============================] - 3s 2ms/step - loss: 0.7727 - accuracy: 0.7329 - val_loss: 1.0455 - val_accuracy: 0.6430\n",
      "Epoch 91/200\n",
      "1250/1250 [==============================] - 3s 2ms/step - loss: 0.7640 - accuracy: 0.7368 - val_loss: 1.0820 - val_accuracy: 0.6308\n",
      "Epoch 92/200\n",
      "1250/1250 [==============================] - 3s 2ms/step - loss: 0.7577 - accuracy: 0.7404 - val_loss: 1.0358 - val_accuracy: 0.6513\n",
      "Epoch 93/200\n",
      "1250/1250 [==============================] - 3s 2ms/step - loss: 0.7504 - accuracy: 0.7412 - val_loss: 1.0686 - val_accuracy: 0.6382\n",
      "Epoch 94/200\n",
      "1250/1250 [==============================] - 3s 2ms/step - loss: 0.7446 - accuracy: 0.7434 - val_loss: 1.0356 - val_accuracy: 0.6481\n",
      "Epoch 95/200\n",
      "1250/1250 [==============================] - 3s 2ms/step - loss: 0.7396 - accuracy: 0.7438 - val_loss: 1.0394 - val_accuracy: 0.6435\n",
      "Epoch 96/200\n",
      "1250/1250 [==============================] - 3s 2ms/step - loss: 0.7316 - accuracy: 0.7466 - val_loss: 1.0267 - val_accuracy: 0.6530\n",
      "Epoch 97/200\n",
      "1250/1250 [==============================] - 3s 2ms/step - loss: 0.7234 - accuracy: 0.7496 - val_loss: 1.0593 - val_accuracy: 0.6435\n",
      "Epoch 98/200\n",
      "1250/1250 [==============================] - 3s 2ms/step - loss: 0.7172 - accuracy: 0.7545 - val_loss: 1.0514 - val_accuracy: 0.6438\n",
      "Epoch 99/200\n",
      "1250/1250 [==============================] - 3s 2ms/step - loss: 0.7091 - accuracy: 0.7568 - val_loss: 1.0662 - val_accuracy: 0.6379\n",
      "Epoch 100/200\n",
      "1250/1250 [==============================] - 3s 2ms/step - loss: 0.7035 - accuracy: 0.7570 - val_loss: 1.0356 - val_accuracy: 0.6454\n",
      "Epoch 101/200\n",
      "1250/1250 [==============================] - 3s 2ms/step - loss: 0.6958 - accuracy: 0.7617 - val_loss: 1.0770 - val_accuracy: 0.6373\n",
      "Epoch 102/200\n",
      "1250/1250 [==============================] - 3s 2ms/step - loss: 0.6887 - accuracy: 0.7622 - val_loss: 1.0659 - val_accuracy: 0.6407\n",
      "Epoch 103/200\n",
      "1250/1250 [==============================] - 3s 2ms/step - loss: 0.6826 - accuracy: 0.7625 - val_loss: 1.0922 - val_accuracy: 0.6375\n",
      "Epoch 104/200\n",
      "1250/1250 [==============================] - 3s 2ms/step - loss: 0.6771 - accuracy: 0.7649 - val_loss: 1.0351 - val_accuracy: 0.6533\n",
      "Epoch 105/200\n",
      "1250/1250 [==============================] - 3s 2ms/step - loss: 0.6688 - accuracy: 0.7696 - val_loss: 1.0635 - val_accuracy: 0.6485\n",
      "Epoch 106/200\n",
      "1250/1250 [==============================] - 3s 2ms/step - loss: 0.6611 - accuracy: 0.7736 - val_loss: 1.0848 - val_accuracy: 0.6413\n",
      "Epoch 107/200\n",
      "1250/1250 [==============================] - 3s 2ms/step - loss: 0.6549 - accuracy: 0.7732 - val_loss: 1.0474 - val_accuracy: 0.6499\n",
      "Epoch 108/200\n",
      "1250/1250 [==============================] - 3s 2ms/step - loss: 0.6490 - accuracy: 0.7784 - val_loss: 1.0549 - val_accuracy: 0.6502\n",
      "Epoch 109/200\n",
      "1250/1250 [==============================] - 3s 2ms/step - loss: 0.6405 - accuracy: 0.7812 - val_loss: 1.0425 - val_accuracy: 0.6528\n",
      "Epoch 110/200\n",
      "1250/1250 [==============================] - 3s 2ms/step - loss: 0.6353 - accuracy: 0.7821 - val_loss: 1.0486 - val_accuracy: 0.6501\n",
      "Epoch 111/200\n",
      "1250/1250 [==============================] - 3s 2ms/step - loss: 0.6274 - accuracy: 0.7855 - val_loss: 1.0766 - val_accuracy: 0.6467\n",
      "Epoch 112/200\n",
      "1250/1250 [==============================] - 3s 2ms/step - loss: 0.6216 - accuracy: 0.7883 - val_loss: 1.0610 - val_accuracy: 0.6490\n",
      "Epoch 113/200\n",
      "1250/1250 [==============================] - 3s 2ms/step - loss: 0.6143 - accuracy: 0.7906 - val_loss: 1.0615 - val_accuracy: 0.6531\n",
      "Epoch 114/200\n",
      "1250/1250 [==============================] - 3s 2ms/step - loss: 0.6067 - accuracy: 0.7909 - val_loss: 1.0674 - val_accuracy: 0.6514\n",
      "Epoch 115/200\n",
      "1250/1250 [==============================] - 3s 2ms/step - loss: 0.6016 - accuracy: 0.7938 - val_loss: 1.0781 - val_accuracy: 0.6509\n",
      "Epoch 116/200\n",
      "1250/1250 [==============================] - 3s 2ms/step - loss: 0.5933 - accuracy: 0.7975 - val_loss: 1.0782 - val_accuracy: 0.6458\n",
      "Epoch 117/200\n",
      "1250/1250 [==============================] - 3s 2ms/step - loss: 0.5898 - accuracy: 0.7957 - val_loss: 1.0956 - val_accuracy: 0.6473\n",
      "Epoch 118/200\n",
      "1250/1250 [==============================] - 3s 2ms/step - loss: 0.5806 - accuracy: 0.8014 - val_loss: 1.0775 - val_accuracy: 0.6538\n",
      "Epoch 119/200\n",
      "1250/1250 [==============================] - 3s 2ms/step - loss: 0.5734 - accuracy: 0.8041 - val_loss: 1.0688 - val_accuracy: 0.6572\n",
      "Epoch 120/200\n",
      "1250/1250 [==============================] - 3s 2ms/step - loss: 0.5679 - accuracy: 0.8081 - val_loss: 1.0795 - val_accuracy: 0.6546\n",
      "Epoch 121/200\n",
      "1250/1250 [==============================] - 3s 2ms/step - loss: 0.5586 - accuracy: 0.8096 - val_loss: 1.0985 - val_accuracy: 0.6501\n",
      "Epoch 122/200\n",
      "1250/1250 [==============================] - 3s 2ms/step - loss: 0.5518 - accuracy: 0.8125 - val_loss: 1.0864 - val_accuracy: 0.6554\n",
      "Epoch 123/200\n",
      "1250/1250 [==============================] - 3s 2ms/step - loss: 0.5466 - accuracy: 0.8135 - val_loss: 1.0929 - val_accuracy: 0.6547\n",
      "Epoch 124/200\n",
      "1250/1250 [==============================] - 3s 2ms/step - loss: 0.5400 - accuracy: 0.8178 - val_loss: 1.1411 - val_accuracy: 0.6374\n",
      "Epoch 125/200\n",
      "1250/1250 [==============================] - 3s 2ms/step - loss: 0.5332 - accuracy: 0.8177 - val_loss: 1.1136 - val_accuracy: 0.6486\n",
      "Epoch 126/200\n",
      "1250/1250 [==============================] - 3s 2ms/step - loss: 0.5262 - accuracy: 0.8212 - val_loss: 1.1012 - val_accuracy: 0.6515\n",
      "Epoch 127/200\n",
      "1250/1250 [==============================] - 3s 2ms/step - loss: 0.5191 - accuracy: 0.8236 - val_loss: 1.1275 - val_accuracy: 0.6452\n",
      "Epoch 128/200\n",
      "1250/1250 [==============================] - 3s 2ms/step - loss: 0.5133 - accuracy: 0.8257 - val_loss: 1.1308 - val_accuracy: 0.6498\n",
      "Epoch 129/200\n",
      "1250/1250 [==============================] - 3s 2ms/step - loss: 0.5058 - accuracy: 0.8285 - val_loss: 1.1873 - val_accuracy: 0.6363\n",
      "Epoch 130/200\n",
      "1250/1250 [==============================] - 3s 2ms/step - loss: 0.5003 - accuracy: 0.8309 - val_loss: 1.1397 - val_accuracy: 0.6497\n",
      "Epoch 131/200\n",
      "1250/1250 [==============================] - 3s 2ms/step - loss: 0.4926 - accuracy: 0.8329 - val_loss: 1.1171 - val_accuracy: 0.6539\n",
      "Epoch 132/200\n",
      "1250/1250 [==============================] - 3s 2ms/step - loss: 0.4853 - accuracy: 0.8332 - val_loss: 1.1484 - val_accuracy: 0.6529\n",
      "Epoch 133/200\n",
      "1250/1250 [==============================] - 3s 2ms/step - loss: 0.4773 - accuracy: 0.8380 - val_loss: 1.1438 - val_accuracy: 0.6508\n",
      "Epoch 134/200\n",
      "1250/1250 [==============================] - 3s 2ms/step - loss: 0.4740 - accuracy: 0.8413 - val_loss: 1.1422 - val_accuracy: 0.6511\n",
      "Epoch 135/200\n",
      "1250/1250 [==============================] - 3s 2ms/step - loss: 0.4645 - accuracy: 0.8431 - val_loss: 1.1647 - val_accuracy: 0.6489\n",
      "Epoch 136/200\n",
      "1250/1250 [==============================] - 3s 2ms/step - loss: 0.4601 - accuracy: 0.8448 - val_loss: 1.1954 - val_accuracy: 0.6423\n",
      "Epoch 137/200\n",
      "1250/1250 [==============================] - 3s 2ms/step - loss: 0.4528 - accuracy: 0.8469 - val_loss: 1.1581 - val_accuracy: 0.6524\n",
      "Epoch 138/200\n",
      "1250/1250 [==============================] - 3s 2ms/step - loss: 0.4462 - accuracy: 0.8503 - val_loss: 1.1750 - val_accuracy: 0.6502\n",
      "Epoch 139/200\n",
      "1250/1250 [==============================] - 3s 2ms/step - loss: 0.4402 - accuracy: 0.8512 - val_loss: 1.1761 - val_accuracy: 0.6527\n",
      "Epoch 140/200\n",
      "1250/1250 [==============================] - 3s 2ms/step - loss: 0.4330 - accuracy: 0.8551 - val_loss: 1.1851 - val_accuracy: 0.6509\n",
      "Epoch 141/200\n",
      "1250/1250 [==============================] - 3s 2ms/step - loss: 0.4261 - accuracy: 0.8576 - val_loss: 1.2176 - val_accuracy: 0.6399\n",
      "Epoch 142/200\n",
      "1250/1250 [==============================] - 3s 2ms/step - loss: 0.4204 - accuracy: 0.8590 - val_loss: 1.1971 - val_accuracy: 0.6495\n",
      "Epoch 143/200\n",
      "1250/1250 [==============================] - 3s 2ms/step - loss: 0.4126 - accuracy: 0.8619 - val_loss: 1.2260 - val_accuracy: 0.6493\n",
      "Epoch 144/200\n",
      "1250/1250 [==============================] - 3s 2ms/step - loss: 0.4057 - accuracy: 0.8644 - val_loss: 1.2312 - val_accuracy: 0.6444\n",
      "Epoch 145/200\n",
      "1250/1250 [==============================] - 3s 2ms/step - loss: 0.4008 - accuracy: 0.8657 - val_loss: 1.2146 - val_accuracy: 0.6510\n",
      "Epoch 146/200\n",
      "1250/1250 [==============================] - 3s 2ms/step - loss: 0.3917 - accuracy: 0.8691 - val_loss: 1.2773 - val_accuracy: 0.6369\n",
      "Epoch 147/200\n",
      "1250/1250 [==============================] - 3s 2ms/step - loss: 0.3853 - accuracy: 0.8727 - val_loss: 1.3094 - val_accuracy: 0.6266\n",
      "Epoch 148/200\n",
      "1250/1250 [==============================] - 3s 2ms/step - loss: 0.3785 - accuracy: 0.8740 - val_loss: 1.2672 - val_accuracy: 0.6429\n",
      "Epoch 149/200\n",
      "1250/1250 [==============================] - 3s 2ms/step - loss: 0.3747 - accuracy: 0.8782 - val_loss: 1.2772 - val_accuracy: 0.6494\n",
      "Epoch 150/200\n",
      "1250/1250 [==============================] - 3s 2ms/step - loss: 0.3649 - accuracy: 0.8811 - val_loss: 1.2576 - val_accuracy: 0.6467\n",
      "Epoch 151/200\n",
      "1250/1250 [==============================] - 3s 2ms/step - loss: 0.3581 - accuracy: 0.8830 - val_loss: 1.2801 - val_accuracy: 0.6440\n",
      "Epoch 152/200\n",
      "1250/1250 [==============================] - 3s 2ms/step - loss: 0.3517 - accuracy: 0.8853 - val_loss: 1.3031 - val_accuracy: 0.6452\n",
      "Epoch 153/200\n",
      "1250/1250 [==============================] - 3s 2ms/step - loss: 0.3449 - accuracy: 0.8877 - val_loss: 1.2856 - val_accuracy: 0.6502\n",
      "Epoch 154/200\n",
      "1250/1250 [==============================] - 3s 2ms/step - loss: 0.3395 - accuracy: 0.8900 - val_loss: 1.2863 - val_accuracy: 0.6469\n",
      "Epoch 155/200\n",
      "1250/1250 [==============================] - 3s 2ms/step - loss: 0.3342 - accuracy: 0.8920 - val_loss: 1.3329 - val_accuracy: 0.6384\n",
      "Epoch 156/200\n",
      "1250/1250 [==============================] - 3s 2ms/step - loss: 0.3283 - accuracy: 0.8922 - val_loss: 1.3164 - val_accuracy: 0.6476\n",
      "Epoch 157/200\n",
      "1250/1250 [==============================] - 3s 2ms/step - loss: 0.3213 - accuracy: 0.8957 - val_loss: 1.3442 - val_accuracy: 0.6425\n",
      "Epoch 158/200\n",
      "1250/1250 [==============================] - 3s 2ms/step - loss: 0.3138 - accuracy: 0.8976 - val_loss: 1.3743 - val_accuracy: 0.6378\n",
      "Epoch 159/200\n",
      "1250/1250 [==============================] - 3s 2ms/step - loss: 0.3073 - accuracy: 0.9025 - val_loss: 1.3445 - val_accuracy: 0.6476\n",
      "Epoch 160/200\n",
      "1250/1250 [==============================] - 3s 2ms/step - loss: 0.3008 - accuracy: 0.9042 - val_loss: 1.3976 - val_accuracy: 0.6387\n",
      "Epoch 161/200\n",
      "1250/1250 [==============================] - 3s 2ms/step - loss: 0.2950 - accuracy: 0.9067 - val_loss: 1.3765 - val_accuracy: 0.6467\n",
      "Epoch 162/200\n",
      "1250/1250 [==============================] - 3s 2ms/step - loss: 0.2904 - accuracy: 0.9068 - val_loss: 1.3923 - val_accuracy: 0.6404\n",
      "Epoch 163/200\n",
      "1250/1250 [==============================] - 3s 2ms/step - loss: 0.2833 - accuracy: 0.9121 - val_loss: 1.4223 - val_accuracy: 0.6397\n",
      "Epoch 164/200\n",
      "1250/1250 [==============================] - 3s 2ms/step - loss: 0.2773 - accuracy: 0.9122 - val_loss: 1.4152 - val_accuracy: 0.6438\n",
      "Epoch 165/200\n",
      "1250/1250 [==============================] - 3s 2ms/step - loss: 0.2703 - accuracy: 0.9145 - val_loss: 1.4375 - val_accuracy: 0.6398\n",
      "Epoch 166/200\n",
      "1250/1250 [==============================] - 3s 2ms/step - loss: 0.2647 - accuracy: 0.9187 - val_loss: 1.4611 - val_accuracy: 0.6344\n",
      "Epoch 167/200\n",
      "1250/1250 [==============================] - 3s 2ms/step - loss: 0.2571 - accuracy: 0.9197 - val_loss: 1.4571 - val_accuracy: 0.6385\n",
      "Epoch 168/200\n",
      "1250/1250 [==============================] - 3s 2ms/step - loss: 0.2490 - accuracy: 0.9245 - val_loss: 1.4583 - val_accuracy: 0.6401\n",
      "Epoch 169/200\n",
      "1250/1250 [==============================] - 3s 2ms/step - loss: 0.2462 - accuracy: 0.9247 - val_loss: 1.4641 - val_accuracy: 0.6439\n",
      "Epoch 170/200\n",
      "1250/1250 [==============================] - 3s 2ms/step - loss: 0.2398 - accuracy: 0.9277 - val_loss: 1.4917 - val_accuracy: 0.6440\n",
      "Epoch 171/200\n",
      "1250/1250 [==============================] - 3s 2ms/step - loss: 0.2330 - accuracy: 0.9292 - val_loss: 1.4796 - val_accuracy: 0.6441\n",
      "Epoch 172/200\n",
      "1250/1250 [==============================] - 3s 2ms/step - loss: 0.2270 - accuracy: 0.9310 - val_loss: 1.5228 - val_accuracy: 0.6454\n",
      "Epoch 173/200\n",
      "1250/1250 [==============================] - 3s 2ms/step - loss: 0.2217 - accuracy: 0.9333 - val_loss: 1.5325 - val_accuracy: 0.6410\n",
      "Epoch 174/200\n",
      "1250/1250 [==============================] - 3s 2ms/step - loss: 0.2157 - accuracy: 0.9368 - val_loss: 1.5137 - val_accuracy: 0.6447\n",
      "Epoch 175/200\n",
      "1250/1250 [==============================] - 3s 2ms/step - loss: 0.2115 - accuracy: 0.9363 - val_loss: 1.5356 - val_accuracy: 0.6452\n",
      "Epoch 176/200\n",
      "1250/1250 [==============================] - 3s 2ms/step - loss: 0.2039 - accuracy: 0.9404 - val_loss: 1.5718 - val_accuracy: 0.6424\n",
      "Epoch 177/200\n",
      "1250/1250 [==============================] - 3s 2ms/step - loss: 0.2005 - accuracy: 0.9412 - val_loss: 1.5737 - val_accuracy: 0.6399\n",
      "Epoch 178/200\n",
      "1250/1250 [==============================] - 3s 2ms/step - loss: 0.1936 - accuracy: 0.9442 - val_loss: 1.5935 - val_accuracy: 0.6415\n",
      "Epoch 179/200\n",
      "1250/1250 [==============================] - 3s 2ms/step - loss: 0.1884 - accuracy: 0.9459 - val_loss: 1.6137 - val_accuracy: 0.6432\n",
      "Epoch 180/200\n",
      "1250/1250 [==============================] - 3s 2ms/step - loss: 0.1830 - accuracy: 0.9495 - val_loss: 1.6226 - val_accuracy: 0.6412\n",
      "Epoch 181/200\n",
      "1250/1250 [==============================] - 3s 2ms/step - loss: 0.1799 - accuracy: 0.9500 - val_loss: 1.6457 - val_accuracy: 0.6394\n",
      "Epoch 182/200\n",
      "1250/1250 [==============================] - 3s 2ms/step - loss: 0.1737 - accuracy: 0.9517 - val_loss: 1.6777 - val_accuracy: 0.6386\n",
      "Epoch 183/200\n",
      "1250/1250 [==============================] - 3s 2ms/step - loss: 0.1658 - accuracy: 0.9552 - val_loss: 1.6820 - val_accuracy: 0.6403\n",
      "Epoch 184/200\n",
      "1250/1250 [==============================] - 3s 2ms/step - loss: 0.1631 - accuracy: 0.9562 - val_loss: 1.7086 - val_accuracy: 0.6382\n",
      "Epoch 185/200\n",
      "1250/1250 [==============================] - 3s 2ms/step - loss: 0.1553 - accuracy: 0.9592 - val_loss: 1.7382 - val_accuracy: 0.6351\n",
      "Epoch 186/200\n",
      "1250/1250 [==============================] - 3s 2ms/step - loss: 0.1509 - accuracy: 0.9595 - val_loss: 1.7279 - val_accuracy: 0.6384\n",
      "Epoch 187/200\n",
      "1250/1250 [==============================] - 3s 2ms/step - loss: 0.1483 - accuracy: 0.9610 - val_loss: 1.7892 - val_accuracy: 0.6317\n",
      "Epoch 188/200\n",
      "1250/1250 [==============================] - 3s 2ms/step - loss: 0.1401 - accuracy: 0.9657 - val_loss: 1.7551 - val_accuracy: 0.6420\n",
      "Epoch 189/200\n",
      "1250/1250 [==============================] - 3s 2ms/step - loss: 0.1364 - accuracy: 0.9664 - val_loss: 1.8119 - val_accuracy: 0.6336\n",
      "Epoch 190/200\n",
      "1250/1250 [==============================] - 3s 2ms/step - loss: 0.1316 - accuracy: 0.9682 - val_loss: 1.7713 - val_accuracy: 0.6398\n",
      "Epoch 191/200\n",
      "1250/1250 [==============================] - 3s 2ms/step - loss: 0.1287 - accuracy: 0.9684 - val_loss: 1.8322 - val_accuracy: 0.6373\n",
      "Epoch 192/200\n",
      "1250/1250 [==============================] - 3s 2ms/step - loss: 0.1245 - accuracy: 0.9692 - val_loss: 1.8328 - val_accuracy: 0.6404\n",
      "Epoch 193/200\n",
      "1250/1250 [==============================] - 3s 2ms/step - loss: 0.1195 - accuracy: 0.9712 - val_loss: 1.8259 - val_accuracy: 0.6388\n",
      "Epoch 194/200\n",
      "1250/1250 [==============================] - 3s 2ms/step - loss: 0.1131 - accuracy: 0.9745 - val_loss: 1.8479 - val_accuracy: 0.6376\n",
      "Epoch 195/200\n",
      "1250/1250 [==============================] - 3s 2ms/step - loss: 0.1111 - accuracy: 0.9743 - val_loss: 1.8523 - val_accuracy: 0.6401\n",
      "Epoch 196/200\n",
      "1250/1250 [==============================] - 3s 2ms/step - loss: 0.1083 - accuracy: 0.9750 - val_loss: 1.9245 - val_accuracy: 0.6364\n",
      "Epoch 197/200\n",
      "1250/1250 [==============================] - 3s 2ms/step - loss: 0.1031 - accuracy: 0.9773 - val_loss: 1.9091 - val_accuracy: 0.6388\n",
      "Epoch 198/200\n",
      "1250/1250 [==============================] - 3s 2ms/step - loss: 0.0983 - accuracy: 0.9793 - val_loss: 1.9316 - val_accuracy: 0.6353\n",
      "Epoch 199/200\n",
      "1250/1250 [==============================] - 3s 2ms/step - loss: 0.0932 - accuracy: 0.9812 - val_loss: 1.9317 - val_accuracy: 0.6379\n",
      "Epoch 200/200\n",
      "1250/1250 [==============================] - 3s 2ms/step - loss: 0.0904 - accuracy: 0.9814 - val_loss: 1.9714 - val_accuracy: 0.6376\n"
     ]
    }
   ],
   "source": [
    "history = model.fit(X_train, y_train, epochs=200, batch_size=32, validation_split=0.2)"
   ]
  },
  {
   "cell_type": "markdown",
   "id": "9f7dc519-947b-492a-bf99-c6638cf75338",
   "metadata": {},
   "source": [
    "#### **Visualizing the training history**"
   ]
  },
  {
   "cell_type": "code",
   "execution_count": 128,
   "id": "abcb091e-a508-4a5b-9efa-6da9d1b47b95",
   "metadata": {
    "tags": []
   },
   "outputs": [
    {
     "data": {
      "text/html": [
       "<div>\n",
       "<style scoped>\n",
       "    .dataframe tbody tr th:only-of-type {\n",
       "        vertical-align: middle;\n",
       "    }\n",
       "\n",
       "    .dataframe tbody tr th {\n",
       "        vertical-align: top;\n",
       "    }\n",
       "\n",
       "    .dataframe thead th {\n",
       "        text-align: right;\n",
       "    }\n",
       "</style>\n",
       "<table border=\"1\" class=\"dataframe\">\n",
       "  <thead>\n",
       "    <tr style=\"text-align: right;\">\n",
       "      <th></th>\n",
       "      <th>loss</th>\n",
       "      <th>accuracy</th>\n",
       "      <th>val_loss</th>\n",
       "      <th>val_accuracy</th>\n",
       "    </tr>\n",
       "  </thead>\n",
       "  <tbody>\n",
       "    <tr>\n",
       "      <th>0</th>\n",
       "      <td>2.293657</td>\n",
       "      <td>0.110100</td>\n",
       "      <td>2.277209</td>\n",
       "      <td>0.1385</td>\n",
       "    </tr>\n",
       "    <tr>\n",
       "      <th>1</th>\n",
       "      <td>2.230797</td>\n",
       "      <td>0.194625</td>\n",
       "      <td>2.155665</td>\n",
       "      <td>0.2302</td>\n",
       "    </tr>\n",
       "    <tr>\n",
       "      <th>2</th>\n",
       "      <td>2.043107</td>\n",
       "      <td>0.271775</td>\n",
       "      <td>1.974834</td>\n",
       "      <td>0.2920</td>\n",
       "    </tr>\n",
       "    <tr>\n",
       "      <th>3</th>\n",
       "      <td>1.926452</td>\n",
       "      <td>0.310275</td>\n",
       "      <td>1.902448</td>\n",
       "      <td>0.3269</td>\n",
       "    </tr>\n",
       "    <tr>\n",
       "      <th>4</th>\n",
       "      <td>1.866313</td>\n",
       "      <td>0.334500</td>\n",
       "      <td>1.846464</td>\n",
       "      <td>0.3444</td>\n",
       "    </tr>\n",
       "    <tr>\n",
       "      <th>...</th>\n",
       "      <td>...</td>\n",
       "      <td>...</td>\n",
       "      <td>...</td>\n",
       "      <td>...</td>\n",
       "    </tr>\n",
       "    <tr>\n",
       "      <th>195</th>\n",
       "      <td>0.108290</td>\n",
       "      <td>0.975050</td>\n",
       "      <td>1.924498</td>\n",
       "      <td>0.6364</td>\n",
       "    </tr>\n",
       "    <tr>\n",
       "      <th>196</th>\n",
       "      <td>0.103143</td>\n",
       "      <td>0.977325</td>\n",
       "      <td>1.909105</td>\n",
       "      <td>0.6388</td>\n",
       "    </tr>\n",
       "    <tr>\n",
       "      <th>197</th>\n",
       "      <td>0.098339</td>\n",
       "      <td>0.979300</td>\n",
       "      <td>1.931600</td>\n",
       "      <td>0.6353</td>\n",
       "    </tr>\n",
       "    <tr>\n",
       "      <th>198</th>\n",
       "      <td>0.093181</td>\n",
       "      <td>0.981175</td>\n",
       "      <td>1.931659</td>\n",
       "      <td>0.6379</td>\n",
       "    </tr>\n",
       "    <tr>\n",
       "      <th>199</th>\n",
       "      <td>0.090379</td>\n",
       "      <td>0.981425</td>\n",
       "      <td>1.971393</td>\n",
       "      <td>0.6376</td>\n",
       "    </tr>\n",
       "  </tbody>\n",
       "</table>\n",
       "<p>200 rows × 4 columns</p>\n",
       "</div>"
      ],
      "text/plain": [
       "         loss  accuracy  val_loss  val_accuracy\n",
       "0    2.293657  0.110100  2.277209        0.1385\n",
       "1    2.230797  0.194625  2.155665        0.2302\n",
       "2    2.043107  0.271775  1.974834        0.2920\n",
       "3    1.926452  0.310275  1.902448        0.3269\n",
       "4    1.866313  0.334500  1.846464        0.3444\n",
       "..        ...       ...       ...           ...\n",
       "195  0.108290  0.975050  1.924498        0.6364\n",
       "196  0.103143  0.977325  1.909105        0.6388\n",
       "197  0.098339  0.979300  1.931600        0.6353\n",
       "198  0.093181  0.981175  1.931659        0.6379\n",
       "199  0.090379  0.981425  1.971393        0.6376\n",
       "\n",
       "[200 rows x 4 columns]"
      ]
     },
     "execution_count": 128,
     "metadata": {},
     "output_type": "execute_result"
    }
   ],
   "source": [
    "import pandas as pd\n",
    "import matplotlib.pyplot as plt\n",
    "\n",
    "history_df = pd.DataFrame(history.history)\n",
    "history_df"
   ]
  },
  {
   "cell_type": "code",
   "execution_count": 129,
   "id": "f69952b3-0c62-48ed-9257-ed851d6b828a",
   "metadata": {},
   "outputs": [
    {
     "data": {
      "text/plain": [
       "Text(0, 0.5, 'Score')"
      ]
     },
     "execution_count": 129,
     "metadata": {},
     "output_type": "execute_result"
    },
    {
     "data": {
      "image/png": "[encoded data removed]",
      "text/plain": [
       "<Figure size 576x360 with 1 Axes>"
      ]
     },
     "metadata": {
      "needs_background": "light"
     },
     "output_type": "display_data"
    },
    {
     "data": {
      "image/png": "[encoded data removed]",
      "text/plain": [
       "<Figure size 576x360 with 1 Axes>"
      ]
     },
     "metadata": {
      "needs_background": "light"
     },
     "output_type": "display_data"
    }
   ],
   "source": [
    "history_df[['loss', 'val_loss']].plot(figsize=(8, 5))\n",
    "plt.grid(True)\n",
    "plt.xticks(range(30))\n",
    "plt.xlabel('Epochs')\n",
    "plt.ylabel('Score')\n",
    "\n",
    "history_df[['accuracy', 'val_accuracy']].plot(figsize=(8, 5))\n",
    "plt.grid(True)\n",
    "plt.xticks(range(30))\n",
    "plt.xlabel('Epochs')\n",
    "plt.ylabel('Score')"
   ]
  },
  {
   "cell_type": "markdown",
   "id": "f8a66ed4-74aa-4aa3-9e88-13fb86b5314d",
   "metadata": {},
   "source": [
    "These plots give us some insight to the _training process_.  <br/>\n",
    "Our _training_ and _testing loss/accuracy_ start to **diverge** significantly past ***epoch 6***, which implies that our network is modeling the _training data_ **too closely** and ***overfitting***. <br/>\n",
    "This can be attributed to _a larger learning rate_ and the fact we **aren’t** using methods to help **combat overfitting**.\n",
    "\n",
    "Some strategies to _remedy_ this issue include:\n",
    "- changing the _learning rate_\n",
    "- using some regularization technique:\n",
    "    - L1\n",
    "    - L2\n",
    "    - _Dropout_\n",
    "    - **Early Stopping**\n",
    "- obtaining _more data_\n",
    "- applying _data augmentation_\n",
    "\n",
    "We'll see more details about these strategies soon!"
   ]
  },
  {
   "cell_type": "markdown",
   "id": "398e4a2b-5201-4941-9f52-ef97b9192ffe",
   "metadata": {},
   "source": [
    "#### **Effects of Learning Rates**\n",
    "<img src='./figs/effects_of_learning_rates.png' width=500/>\n",
    "\n",
    "Source: Rosebrock, Adrian. Deep learning for computer vision with python: starter bundle. PyImageSearch, 2017."
   ]
  },
  {
   "cell_type": "markdown",
   "id": "71dc4b9d-d057-4a3d-9b87-142290632c4a",
   "metadata": {},
   "source": [
    "## 3. Evaluating and Predicting New Samples by using our Overfitted Model"
   ]
  },
  {
   "cell_type": "markdown",
   "id": "6114493b-379d-4407-8f3f-278806a9c9fb",
   "metadata": {},
   "source": [
    "#### **Evaluation**\n",
    "https://www.tensorflow.org/api_docs/python/tf/keras/Sequential#evaluate"
   ]
  },
  {
   "cell_type": "code",
   "execution_count": 130,
   "id": "41a75d26-ca65-405e-85bf-377a035a82a4",
   "metadata": {},
   "outputs": [
    {
     "name": "stdout",
     "output_type": "stream",
     "text": [
      "313/313 [==============================] - 0s 1ms/step - loss: 1.9831 - accuracy: 0.6372\n"
     ]
    },
    {
     "data": {
      "text/plain": [
       "[1.983093023300171, 0.6371999979019165]"
      ]
     },
     "execution_count": 130,
     "metadata": {},
     "output_type": "execute_result"
    }
   ],
   "source": [
    "model.evaluate(X_test, y_test)"
   ]
  },
  {
   "cell_type": "markdown",
   "id": "1a6c74cf-ba92-40a3-9bba-728e893a58a8",
   "metadata": {},
   "source": [
    "#### **Prediction**\n",
    "https://www.tensorflow.org/api_docs/python/tf/keras/Sequential#predict"
   ]
  },
  {
   "cell_type": "code",
   "execution_count": 131,
   "id": "3739ea39-55a6-47c9-a5ae-e8d3e41e6230",
   "metadata": {},
   "outputs": [
    {
     "name": "stdout",
     "output_type": "stream",
     "text": [
      "313/313 [==============================] - 0s 1ms/step\n"
     ]
    },
    {
     "data": {
      "text/plain": [
       "array([[1.2859363e-05, 2.6603879e-09, 1.0688842e-07, ..., 9.1949983e-07,\n",
       "        1.8521781e-08, 4.6843235e-10],\n",
       "       [6.3508011e-08, 9.0523398e-01, 1.0735080e-16, ..., 3.9127933e-16,\n",
       "        9.4765849e-02, 3.5270890e-08],\n",
       "       [8.6090511e-01, 1.4279679e-03, 4.7237378e-08, ..., 2.2490519e-07,\n",
       "        8.7662630e-02, 5.0000940e-02],\n",
       "       ...,\n",
       "       [6.7102192e-11, 3.4375915e-13, 6.0485388e-07, ..., 8.6860585e-10,\n",
       "        1.1739002e-08, 2.7164999e-11],\n",
       "       [5.3207586e-03, 1.9381823e-06, 8.5515310e-08, ..., 2.1247422e-04,\n",
       "        1.6477996e-08, 2.7965893e-07],\n",
       "       [1.5570354e-14, 3.6317689e-12, 9.7822774e-12, ..., 9.9998450e-01,\n",
       "        8.8446280e-13, 6.8612096e-08]], dtype=float32)"
      ]
     },
     "execution_count": 131,
     "metadata": {},
     "output_type": "execute_result"
    }
   ],
   "source": [
    "y_test_proba = model.predict(X_test)\n",
    "y_test_proba"
   ]
  },
  {
   "cell_type": "markdown",
   "id": "cea9d666-911d-41e9-9954-f7b844deb99a",
   "metadata": {},
   "source": [
    "#### **Class Prediction**\n",
    "https://stackoverflow.com/a/69503180/7069696"
   ]
  },
  {
   "cell_type": "code",
   "execution_count": 132,
   "id": "d887c320-b6c1-4c7f-b859-522e65d5f272",
   "metadata": {},
   "outputs": [
    {
     "data": {
      "text/plain": [
       "array([3, 1, 0, ..., 5, 4, 7])"
      ]
     },
     "execution_count": 132,
     "metadata": {},
     "output_type": "execute_result"
    }
   ],
   "source": [
    "y_test_pred = np.argmax(y_test_proba, axis=1)\n",
    "y_test_pred"
   ]
  },
  {
   "cell_type": "code",
   "execution_count": 133,
   "id": "6c9dd684-66be-4eb8-9a1d-798408e95a46",
   "metadata": {},
   "outputs": [
    {
     "name": "stdout",
     "output_type": "stream",
     "text": [
      "              precision    recall  f1-score   support\n",
      "\n",
      "    airplane       0.66      0.73      0.69      1000\n",
      "  automobile       0.76      0.72      0.74      1000\n",
      "        bird       0.57      0.45      0.50      1000\n",
      "         cat       0.48      0.38      0.42      1000\n",
      "        deer       0.58      0.56      0.57      1000\n",
      "         dog       0.51      0.58      0.54      1000\n",
      "        frog       0.71      0.74      0.73      1000\n",
      "       horse       0.67      0.72      0.69      1000\n",
      "        ship       0.76      0.75      0.75      1000\n",
      "       truck       0.65      0.75      0.70      1000\n",
      "\n",
      "    accuracy                           0.64     10000\n",
      "   macro avg       0.63      0.64      0.63     10000\n",
      "weighted avg       0.63      0.64      0.63     10000\n",
      "\n"
     ]
    }
   ],
   "source": [
    "from sklearn.metrics import classification_report\n",
    "\n",
    "print(classification_report(y_test, y_test_pred, target_names=[name for name in class_names]))"
   ]
  },
  {
   "cell_type": "markdown",
   "id": "3bafc6b3-a9c5-4d6f-972f-4796208ca8de",
   "metadata": {},
   "source": [
    "We got a **poor accuracy** of 62%."
   ]
  },
  {
   "cell_type": "markdown",
   "id": "40f4ca35-9744-40ba-9ac1-822ffc932850",
   "metadata": {},
   "source": [
    "## 4. Model Regularization by Early Stopping"
   ]
  },
  {
   "cell_type": "markdown",
   "id": "7ec27fef-918a-4cf5-91fa-f9929898490d",
   "metadata": {},
   "source": [
    "A very different way to **regularize** _iterative learning algorithms_, such as _Gradient Descent_, is **to stop training** as soon as the _validation error_ reaches a **minimum**. This is called **early stopping**.\n",
    "\n",
    "\n",
    "<img src='./figs/early_stopping.png' width=500>\n",
    "\n",
    "Source: https://towardsdatascience.com/a-practical-introduction-to-early-stopping-in-machine-learning-550ac88bc8fd"
   ]
  },
  {
   "cell_type": "markdown",
   "id": "05126eea-8f39-4043-b047-6f4179dd512e",
   "metadata": {},
   "source": [
    "As the _epochs_ go by the algorithm learns, and its **prediction error** on the _training set_ goes down, along with its **prediction error** on the _validation set_. <br/>\n",
    "After a while though, the _validation error_ stops **decreasing** and starts to **go back up**. <br/>\n",
    "This indicates that the model has _started to **overfit the training data**_.\n",
    "\n",
    "With **early stopping** we just ***stop*** _training_ as soon as the **validation error** reaches the _minimum_ (or after a _number of epochs_ **with no improvement**)."
   ]
  },
  {
   "cell_type": "markdown",
   "id": "b11b1e2c-1184-4006-9131-26fef5978b53",
   "metadata": {},
   "source": [
    "### ***Back to our model***"
   ]
  },
  {
   "cell_type": "code",
   "execution_count": 134,
   "id": "9643a365-6091-4d5f-b781-9a8e8ce9b832",
   "metadata": {},
   "outputs": [
    {
     "data": {
      "text/plain": [
       "Text(0, 0.5, 'Score')"
      ]
     },
     "execution_count": 134,
     "metadata": {},
     "output_type": "execute_result"
    },
    {
     "data": {
      "image/png": "[encoded data removed]",
      "text/plain": [
       "<Figure size 576x360 with 1 Axes>"
      ]
     },
     "metadata": {
      "needs_background": "light"
     },
     "output_type": "display_data"
    }
   ],
   "source": [
    "history_df[['loss', 'val_loss']].plot(figsize=(8, 5))\n",
    "plt.grid(True)\n",
    "plt.xticks(range(30))\n",
    "plt.xlabel('Epochs')\n",
    "plt.ylabel('Score')"
   ]
  },
  {
   "cell_type": "markdown",
   "id": "245addea-cb16-4fe5-a5a1-7eb37d5724ab",
   "metadata": {},
   "source": [
    "Apparently, our **early stopping point** is the ***epoch 6***. <br/>\n",
    "So, we should get the _trained model_ (_learned weights and biases_) at **this epoch**. However, our _final trained model_ is the one past 30 epochs."
   ]
  },
  {
   "cell_type": "markdown",
   "id": "0949e689-756a-4ab2-84ba-aec905dbf61a",
   "metadata": {},
   "source": [
    "### **Strategy 1**\n",
    "One possible strategy to get there is to **retrain** our model ***from scratch***, but now with _just_ ***X + 1 epochs*** (PS: the epochs start at 0). <br/>\n",
    "We need to _reset_ our _model weights_ and _biases_ before calling another `fit()`, otherwise Keras will keep training from the _learned weights and biases_ from the first `fit()` with 30 epochs."
   ]
  },
  {
   "cell_type": "code",
   "execution_count": 147,
   "id": "9972d778-c4b2-4ab3-a515-753c1442a868",
   "metadata": {},
   "outputs": [],
   "source": [
    "# creating a new model with new initial weights and biases\n",
    "model = build_first_cnn()\n",
    "\n",
    "opt = tf.keras.optimizers.SGD(learning_rate=0.05)  # just for testing\n",
    "model.compile(loss='sparse_categorical_crossentropy', optimizer=opt, metrics=['accuracy'])"
   ]
  },
  {
   "cell_type": "code",
   "execution_count": 148,
   "id": "54e7897f-cbea-4d86-9732-c5a589c894a7",
   "metadata": {},
   "outputs": [
    {
     "name": "stdout",
     "output_type": "stream",
     "text": [
      "Epoch 1/110\n",
      "1250/1250 [==============================] - 3s 3ms/step - loss: 1.8286 - accuracy: 0.3414 - val_loss: 1.6303 - val_accuracy: 0.4211\n",
      "Epoch 2/110\n",
      "1250/1250 [==============================] - 3s 2ms/step - loss: 1.4247 - accuracy: 0.4844 - val_loss: 1.3322 - val_accuracy: 0.5254\n",
      "Epoch 3/110\n",
      "1250/1250 [==============================] - 3s 2ms/step - loss: 1.2533 - accuracy: 0.5522 - val_loss: 1.2133 - val_accuracy: 0.5730\n",
      "Epoch 4/110\n",
      "1250/1250 [==============================] - 3s 2ms/step - loss: 1.1288 - accuracy: 0.5993 - val_loss: 1.1669 - val_accuracy: 0.5918\n",
      "Epoch 5/110\n",
      "1250/1250 [==============================] - 3s 2ms/step - loss: 1.0136 - accuracy: 0.6405 - val_loss: 1.1619 - val_accuracy: 0.5978\n",
      "Epoch 6/110\n",
      "1250/1250 [==============================] - 3s 2ms/step - loss: 0.9030 - accuracy: 0.6809 - val_loss: 1.1074 - val_accuracy: 0.6164\n",
      "Epoch 7/110\n",
      "1250/1250 [==============================] - 3s 2ms/step - loss: 0.7995 - accuracy: 0.7161 - val_loss: 1.1823 - val_accuracy: 0.6061\n",
      "Epoch 8/110\n",
      "1250/1250 [==============================] - 3s 2ms/step - loss: 0.6974 - accuracy: 0.7540 - val_loss: 1.1652 - val_accuracy: 0.6262\n",
      "Epoch 9/110\n",
      "1250/1250 [==============================] - 3s 2ms/step - loss: 0.5952 - accuracy: 0.7900 - val_loss: 1.2097 - val_accuracy: 0.6278\n",
      "Epoch 10/110\n",
      "1250/1250 [==============================] - 3s 2ms/step - loss: 0.5053 - accuracy: 0.8209 - val_loss: 1.3003 - val_accuracy: 0.6173\n",
      "Epoch 11/110\n",
      "1250/1250 [==============================] - 3s 2ms/step - loss: 0.4264 - accuracy: 0.8470 - val_loss: 1.3572 - val_accuracy: 0.6210\n",
      "Epoch 12/110\n",
      "1250/1250 [==============================] - 3s 2ms/step - loss: 0.3602 - accuracy: 0.8724 - val_loss: 1.5855 - val_accuracy: 0.6086\n",
      "Epoch 13/110\n",
      "1250/1250 [==============================] - 3s 2ms/step - loss: 0.3118 - accuracy: 0.8894 - val_loss: 1.7315 - val_accuracy: 0.6135\n",
      "Epoch 14/110\n",
      "1250/1250 [==============================] - 3s 2ms/step - loss: 0.2710 - accuracy: 0.9051 - val_loss: 1.7847 - val_accuracy: 0.6135\n",
      "Epoch 15/110\n",
      "1250/1250 [==============================] - 3s 2ms/step - loss: 0.2330 - accuracy: 0.9186 - val_loss: 1.9787 - val_accuracy: 0.6091\n",
      "Epoch 16/110\n",
      "1250/1250 [==============================] - 3s 2ms/step - loss: 0.2237 - accuracy: 0.9219 - val_loss: 2.0844 - val_accuracy: 0.6027\n",
      "Epoch 17/110\n",
      "1250/1250 [==============================] - 3s 2ms/step - loss: 0.1919 - accuracy: 0.9341 - val_loss: 2.0969 - val_accuracy: 0.6030\n",
      "Epoch 18/110\n",
      "1250/1250 [==============================] - 3s 2ms/step - loss: 0.1721 - accuracy: 0.9406 - val_loss: 2.3196 - val_accuracy: 0.6013\n",
      "Epoch 19/110\n",
      "1250/1250 [==============================] - 3s 2ms/step - loss: 0.1634 - accuracy: 0.9434 - val_loss: 2.3944 - val_accuracy: 0.6028\n",
      "Epoch 20/110\n",
      "1250/1250 [==============================] - 3s 2ms/step - loss: 0.1437 - accuracy: 0.9516 - val_loss: 2.6262 - val_accuracy: 0.5881\n",
      "Epoch 21/110\n",
      "1250/1250 [==============================] - 3s 2ms/step - loss: 0.1432 - accuracy: 0.9530 - val_loss: 2.5945 - val_accuracy: 0.6019\n",
      "Epoch 22/110\n",
      "1250/1250 [==============================] - 3s 2ms/step - loss: 0.1217 - accuracy: 0.9605 - val_loss: 2.6089 - val_accuracy: 0.6040\n",
      "Epoch 23/110\n",
      "1250/1250 [==============================] - 3s 2ms/step - loss: 0.1300 - accuracy: 0.9571 - val_loss: 2.6805 - val_accuracy: 0.6101\n",
      "Epoch 24/110\n",
      "1250/1250 [==============================] - 3s 2ms/step - loss: 0.1080 - accuracy: 0.9641 - val_loss: 2.9109 - val_accuracy: 0.6090\n",
      "Epoch 25/110\n",
      "1250/1250 [==============================] - 3s 2ms/step - loss: 0.1110 - accuracy: 0.9639 - val_loss: 2.8848 - val_accuracy: 0.5964\n",
      "Epoch 26/110\n",
      "1250/1250 [==============================] - 3s 2ms/step - loss: 0.0914 - accuracy: 0.9704 - val_loss: 2.9393 - val_accuracy: 0.6031\n",
      "Epoch 27/110\n",
      "1250/1250 [==============================] - 3s 2ms/step - loss: 0.0972 - accuracy: 0.9688 - val_loss: 2.9764 - val_accuracy: 0.5942\n",
      "Epoch 28/110\n",
      "1250/1250 [==============================] - 3s 2ms/step - loss: 0.0870 - accuracy: 0.9714 - val_loss: 3.0956 - val_accuracy: 0.6060\n",
      "Epoch 29/110\n",
      "1250/1250 [==============================] - 3s 2ms/step - loss: 0.0851 - accuracy: 0.9724 - val_loss: 3.1925 - val_accuracy: 0.6006\n",
      "Epoch 30/110\n",
      "1250/1250 [==============================] - 3s 2ms/step - loss: 0.1079 - accuracy: 0.9657 - val_loss: 3.2816 - val_accuracy: 0.6023\n",
      "Epoch 31/110\n",
      "1250/1250 [==============================] - 3s 2ms/step - loss: 0.0810 - accuracy: 0.9745 - val_loss: 3.4215 - val_accuracy: 0.5870\n",
      "Epoch 32/110\n",
      "1250/1250 [==============================] - 3s 2ms/step - loss: 0.0915 - accuracy: 0.9709 - val_loss: 3.4067 - val_accuracy: 0.5894\n",
      "Epoch 33/110\n",
      "1250/1250 [==============================] - 3s 2ms/step - loss: 0.0698 - accuracy: 0.9779 - val_loss: 3.5438 - val_accuracy: 0.5921\n",
      "Epoch 34/110\n",
      "1250/1250 [==============================] - 3s 2ms/step - loss: 0.0758 - accuracy: 0.9769 - val_loss: 3.3475 - val_accuracy: 0.6051\n",
      "Epoch 35/110\n",
      "1250/1250 [==============================] - 3s 2ms/step - loss: 0.0792 - accuracy: 0.9766 - val_loss: 3.4077 - val_accuracy: 0.6024\n",
      "Epoch 36/110\n",
      "1250/1250 [==============================] - 3s 2ms/step - loss: 0.0697 - accuracy: 0.9783 - val_loss: 3.4776 - val_accuracy: 0.6070\n",
      "Epoch 37/110\n",
      "1250/1250 [==============================] - 3s 2ms/step - loss: 0.0716 - accuracy: 0.9785 - val_loss: 3.6363 - val_accuracy: 0.6059\n",
      "Epoch 38/110\n",
      "1250/1250 [==============================] - 3s 2ms/step - loss: 0.0553 - accuracy: 0.9825 - val_loss: 3.6589 - val_accuracy: 0.6013\n",
      "Epoch 39/110\n",
      "1250/1250 [==============================] - 3s 2ms/step - loss: 0.0481 - accuracy: 0.9859 - val_loss: 3.6655 - val_accuracy: 0.6086\n",
      "Epoch 40/110\n",
      "1250/1250 [==============================] - 3s 2ms/step - loss: 0.0443 - accuracy: 0.9865 - val_loss: 3.7712 - val_accuracy: 0.6047\n",
      "Epoch 41/110\n",
      "1250/1250 [==============================] - 3s 2ms/step - loss: 0.0576 - accuracy: 0.9822 - val_loss: 4.0055 - val_accuracy: 0.5909\n",
      "Epoch 42/110\n",
      "1250/1250 [==============================] - 3s 2ms/step - loss: 0.0571 - accuracy: 0.9817 - val_loss: 3.9008 - val_accuracy: 0.6001\n",
      "Epoch 43/110\n",
      "1250/1250 [==============================] - 3s 2ms/step - loss: 0.0547 - accuracy: 0.9835 - val_loss: 4.0152 - val_accuracy: 0.6006\n",
      "Epoch 44/110\n",
      "1250/1250 [==============================] - 3s 2ms/step - loss: 0.0449 - accuracy: 0.9858 - val_loss: 4.1297 - val_accuracy: 0.5995\n",
      "Epoch 45/110\n",
      "1250/1250 [==============================] - 3s 2ms/step - loss: 0.0831 - accuracy: 0.9760 - val_loss: 4.1080 - val_accuracy: 0.5941\n",
      "Epoch 46/110\n",
      "1250/1250 [==============================] - 3s 2ms/step - loss: 0.0713 - accuracy: 0.9787 - val_loss: 4.1146 - val_accuracy: 0.6013\n",
      "Epoch 47/110\n",
      "1250/1250 [==============================] - 3s 2ms/step - loss: 0.0654 - accuracy: 0.9807 - val_loss: 3.9618 - val_accuracy: 0.5922\n",
      "Epoch 48/110\n",
      "1250/1250 [==============================] - 3s 2ms/step - loss: 0.0446 - accuracy: 0.9861 - val_loss: 4.4885 - val_accuracy: 0.5923\n",
      "Epoch 49/110\n",
      "1250/1250 [==============================] - 3s 2ms/step - loss: 0.0559 - accuracy: 0.9841 - val_loss: 4.2062 - val_accuracy: 0.6000\n",
      "Epoch 50/110\n",
      "1250/1250 [==============================] - 3s 2ms/step - loss: 0.0423 - accuracy: 0.9873 - val_loss: 4.2221 - val_accuracy: 0.5940\n",
      "Epoch 51/110\n",
      "1250/1250 [==============================] - 3s 2ms/step - loss: 0.0621 - accuracy: 0.9826 - val_loss: 4.3201 - val_accuracy: 0.5999\n",
      "Epoch 52/110\n",
      "1250/1250 [==============================] - 3s 2ms/step - loss: 0.0551 - accuracy: 0.9834 - val_loss: 4.4192 - val_accuracy: 0.5962\n",
      "Epoch 53/110\n",
      "1250/1250 [==============================] - 3s 2ms/step - loss: 0.0669 - accuracy: 0.9802 - val_loss: 4.3367 - val_accuracy: 0.5963\n",
      "Epoch 54/110\n",
      "1250/1250 [==============================] - 3s 2ms/step - loss: 0.0720 - accuracy: 0.9798 - val_loss: 4.1425 - val_accuracy: 0.5999\n",
      "Epoch 55/110\n",
      "1250/1250 [==============================] - 3s 2ms/step - loss: 0.0669 - accuracy: 0.9808 - val_loss: 4.3659 - val_accuracy: 0.5919\n",
      "Epoch 56/110\n",
      "1250/1250 [==============================] - 3s 2ms/step - loss: 0.0727 - accuracy: 0.9807 - val_loss: 4.1274 - val_accuracy: 0.6019\n",
      "Epoch 57/110\n",
      "1250/1250 [==============================] - 3s 2ms/step - loss: 0.0390 - accuracy: 0.9878 - val_loss: 4.2890 - val_accuracy: 0.6030\n",
      "Epoch 58/110\n",
      "1250/1250 [==============================] - 3s 2ms/step - loss: 0.0305 - accuracy: 0.9910 - val_loss: 4.6039 - val_accuracy: 0.5938\n",
      "Epoch 59/110\n",
      "1250/1250 [==============================] - 3s 2ms/step - loss: 0.0269 - accuracy: 0.9921 - val_loss: 4.3747 - val_accuracy: 0.5989\n",
      "Epoch 60/110\n",
      "1250/1250 [==============================] - 3s 2ms/step - loss: 0.0366 - accuracy: 0.9894 - val_loss: 4.4792 - val_accuracy: 0.5997\n",
      "Epoch 61/110\n",
      "1250/1250 [==============================] - 3s 2ms/step - loss: 0.0308 - accuracy: 0.9902 - val_loss: 4.6030 - val_accuracy: 0.5971\n",
      "Epoch 62/110\n",
      "1250/1250 [==============================] - 3s 2ms/step - loss: 0.0451 - accuracy: 0.9873 - val_loss: 4.4767 - val_accuracy: 0.6029\n",
      "Epoch 63/110\n",
      "1250/1250 [==============================] - 3s 2ms/step - loss: 0.0546 - accuracy: 0.9851 - val_loss: 4.6819 - val_accuracy: 0.5865\n",
      "Epoch 64/110\n",
      "1250/1250 [==============================] - 3s 2ms/step - loss: 0.0538 - accuracy: 0.9844 - val_loss: 4.8238 - val_accuracy: 0.5875\n",
      "Epoch 65/110\n",
      "1250/1250 [==============================] - 3s 2ms/step - loss: 0.0692 - accuracy: 0.9810 - val_loss: 4.5911 - val_accuracy: 0.5961\n",
      "Epoch 66/110\n",
      "1250/1250 [==============================] - 3s 2ms/step - loss: 0.0376 - accuracy: 0.9889 - val_loss: 4.8850 - val_accuracy: 0.5983\n",
      "Epoch 67/110\n",
      "1250/1250 [==============================] - 3s 2ms/step - loss: 0.0529 - accuracy: 0.9853 - val_loss: 4.9005 - val_accuracy: 0.5985\n",
      "Epoch 68/110\n",
      "1250/1250 [==============================] - 3s 2ms/step - loss: 0.0502 - accuracy: 0.9859 - val_loss: 5.0801 - val_accuracy: 0.5975\n",
      "Epoch 69/110\n",
      "1250/1250 [==============================] - 3s 2ms/step - loss: 0.0586 - accuracy: 0.9839 - val_loss: 4.9785 - val_accuracy: 0.6013\n",
      "Epoch 70/110\n",
      "1250/1250 [==============================] - 3s 2ms/step - loss: 0.0576 - accuracy: 0.9841 - val_loss: 4.9185 - val_accuracy: 0.6044\n",
      "Epoch 71/110\n",
      "1250/1250 [==============================] - 3s 2ms/step - loss: 0.0460 - accuracy: 0.9874 - val_loss: 5.1295 - val_accuracy: 0.6108\n",
      "Epoch 72/110\n",
      "1250/1250 [==============================] - 3s 2ms/step - loss: 0.0581 - accuracy: 0.9845 - val_loss: 4.7365 - val_accuracy: 0.5917\n",
      "Epoch 73/110\n",
      "1250/1250 [==============================] - 3s 2ms/step - loss: 0.0381 - accuracy: 0.9892 - val_loss: 4.9879 - val_accuracy: 0.6018\n",
      "Epoch 74/110\n",
      "1250/1250 [==============================] - 3s 2ms/step - loss: 0.0371 - accuracy: 0.9898 - val_loss: 5.0464 - val_accuracy: 0.5940\n",
      "Epoch 75/110\n",
      "1250/1250 [==============================] - 3s 2ms/step - loss: 0.0595 - accuracy: 0.9838 - val_loss: 4.9819 - val_accuracy: 0.5909\n",
      "Epoch 76/110\n",
      "1250/1250 [==============================] - 3s 2ms/step - loss: 0.0565 - accuracy: 0.9856 - val_loss: 4.9457 - val_accuracy: 0.6016\n",
      "Epoch 77/110\n",
      "1250/1250 [==============================] - 3s 2ms/step - loss: 0.0416 - accuracy: 0.9876 - val_loss: 5.1306 - val_accuracy: 0.5995\n",
      "Epoch 78/110\n",
      "1250/1250 [==============================] - 3s 2ms/step - loss: 0.0673 - accuracy: 0.9830 - val_loss: 4.8529 - val_accuracy: 0.5933\n",
      "Epoch 79/110\n",
      "1250/1250 [==============================] - 3s 2ms/step - loss: 0.0493 - accuracy: 0.9863 - val_loss: 5.4320 - val_accuracy: 0.5897\n",
      "Epoch 80/110\n",
      "1250/1250 [==============================] - 3s 2ms/step - loss: 0.0511 - accuracy: 0.9861 - val_loss: 5.0873 - val_accuracy: 0.6022\n",
      "Epoch 81/110\n",
      "1250/1250 [==============================] - 3s 2ms/step - loss: 0.0389 - accuracy: 0.9894 - val_loss: 5.3930 - val_accuracy: 0.5893\n",
      "Epoch 82/110\n",
      "1250/1250 [==============================] - 3s 2ms/step - loss: 0.0494 - accuracy: 0.9865 - val_loss: 5.4019 - val_accuracy: 0.5962\n",
      "Epoch 83/110\n",
      "1250/1250 [==============================] - 3s 2ms/step - loss: 0.0636 - accuracy: 0.9837 - val_loss: 5.2114 - val_accuracy: 0.5992\n",
      "Epoch 84/110\n",
      "1250/1250 [==============================] - 3s 2ms/step - loss: 0.0570 - accuracy: 0.9853 - val_loss: 5.4416 - val_accuracy: 0.5887\n",
      "Epoch 85/110\n",
      "1250/1250 [==============================] - 3s 2ms/step - loss: 0.0411 - accuracy: 0.9883 - val_loss: 5.3813 - val_accuracy: 0.6004\n",
      "Epoch 86/110\n",
      "1250/1250 [==============================] - 3s 2ms/step - loss: 0.0354 - accuracy: 0.9911 - val_loss: 5.7166 - val_accuracy: 0.5818\n",
      "Epoch 87/110\n",
      "1250/1250 [==============================] - 3s 2ms/step - loss: 0.0559 - accuracy: 0.9856 - val_loss: 5.3593 - val_accuracy: 0.5973\n",
      "Epoch 88/110\n",
      "1250/1250 [==============================] - 3s 2ms/step - loss: 0.0766 - accuracy: 0.9812 - val_loss: 5.0332 - val_accuracy: 0.5939\n",
      "Epoch 89/110\n",
      "1250/1250 [==============================] - 3s 2ms/step - loss: 0.0495 - accuracy: 0.9863 - val_loss: 5.2066 - val_accuracy: 0.5982\n",
      "Epoch 90/110\n",
      "1250/1250 [==============================] - 3s 2ms/step - loss: 0.0416 - accuracy: 0.9894 - val_loss: 5.3488 - val_accuracy: 0.6016\n",
      "Epoch 91/110\n",
      "1250/1250 [==============================] - 3s 2ms/step - loss: 0.0456 - accuracy: 0.9873 - val_loss: 5.5343 - val_accuracy: 0.5965\n",
      "Epoch 92/110\n",
      "1250/1250 [==============================] - 3s 2ms/step - loss: 0.0655 - accuracy: 0.9830 - val_loss: 5.6377 - val_accuracy: 0.5882\n",
      "Epoch 93/110\n",
      "1250/1250 [==============================] - 3s 2ms/step - loss: 0.0587 - accuracy: 0.9854 - val_loss: 5.3638 - val_accuracy: 0.5988\n",
      "Epoch 94/110\n",
      "1250/1250 [==============================] - 3s 2ms/step - loss: 0.0448 - accuracy: 0.9883 - val_loss: 5.4256 - val_accuracy: 0.5999\n",
      "Epoch 95/110\n",
      "1250/1250 [==============================] - 3s 2ms/step - loss: 0.0253 - accuracy: 0.9929 - val_loss: 5.9067 - val_accuracy: 0.5989\n",
      "Epoch 96/110\n",
      "1250/1250 [==============================] - 3s 2ms/step - loss: 0.0481 - accuracy: 0.9879 - val_loss: 5.8452 - val_accuracy: 0.5932\n",
      "Epoch 97/110\n",
      "1250/1250 [==============================] - 3s 2ms/step - loss: 0.0702 - accuracy: 0.9817 - val_loss: 5.8240 - val_accuracy: 0.5888\n",
      "Epoch 98/110\n",
      "1250/1250 [==============================] - 3s 2ms/step - loss: 0.0564 - accuracy: 0.9856 - val_loss: 5.6951 - val_accuracy: 0.6014\n",
      "Epoch 99/110\n",
      "1250/1250 [==============================] - 3s 2ms/step - loss: 0.0809 - accuracy: 0.9822 - val_loss: 5.5404 - val_accuracy: 0.5873\n",
      "Epoch 100/110\n",
      "1250/1250 [==============================] - 3s 2ms/step - loss: 0.0539 - accuracy: 0.9855 - val_loss: 5.5961 - val_accuracy: 0.5839\n",
      "Epoch 101/110\n",
      "1250/1250 [==============================] - 3s 2ms/step - loss: 0.0616 - accuracy: 0.9849 - val_loss: 5.5261 - val_accuracy: 0.5928\n",
      "Epoch 102/110\n",
      "1250/1250 [==============================] - 3s 2ms/step - loss: 0.0497 - accuracy: 0.9876 - val_loss: 5.6207 - val_accuracy: 0.5917\n",
      "Epoch 103/110\n",
      "1250/1250 [==============================] - 3s 2ms/step - loss: 0.0619 - accuracy: 0.9843 - val_loss: 5.8846 - val_accuracy: 0.5952\n",
      "Epoch 104/110\n",
      "1250/1250 [==============================] - 3s 2ms/step - loss: 0.0467 - accuracy: 0.9879 - val_loss: 6.1091 - val_accuracy: 0.5981\n",
      "Epoch 105/110\n",
      "1250/1250 [==============================] - 3s 2ms/step - loss: 0.0535 - accuracy: 0.9871 - val_loss: 5.8105 - val_accuracy: 0.5965\n",
      "Epoch 106/110\n",
      "1250/1250 [==============================] - 3s 2ms/step - loss: 0.0611 - accuracy: 0.9855 - val_loss: 5.8517 - val_accuracy: 0.5951\n",
      "Epoch 107/110\n",
      "1250/1250 [==============================] - 3s 2ms/step - loss: 0.0656 - accuracy: 0.9847 - val_loss: 5.8578 - val_accuracy: 0.5894\n",
      "Epoch 108/110\n",
      "1250/1250 [==============================] - 3s 2ms/step - loss: 0.0604 - accuracy: 0.9857 - val_loss: 5.6893 - val_accuracy: 0.5968\n",
      "Epoch 109/110\n",
      "1250/1250 [==============================] - 3s 2ms/step - loss: 0.0411 - accuracy: 0.9893 - val_loss: 5.6863 - val_accuracy: 0.5963\n",
      "Epoch 110/110\n",
      "1250/1250 [==============================] - 3s 2ms/step - loss: 0.0372 - accuracy: 0.9912 - val_loss: 5.6519 - val_accuracy: 0.5980\n"
     ]
    }
   ],
   "source": [
    "history = model.fit(X_train, y_train, epochs=110, batch_size=32, validation_split=0.2)"
   ]
  },
  {
   "cell_type": "code",
   "execution_count": 137,
   "id": "cf469e9b-7a47-4398-90d2-9ef298a06b00",
   "metadata": {},
   "outputs": [
    {
     "data": {
      "text/plain": [
       "Text(0, 0.5, 'Score')"
      ]
     },
     "execution_count": 137,
     "metadata": {},
     "output_type": "execute_result"
    },
    {
     "data": {
      "image/png": "[encoded data removed]",
      "text/plain": [
       "<Figure size 576x360 with 1 Axes>"
      ]
     },
     "metadata": {
      "needs_background": "light"
     },
     "output_type": "display_data"
    },
    {
     "data": {
      "image/png": "[encoded data removed]",
      "text/plain": [
       "<Figure size 576x360 with 1 Axes>"
      ]
     },
     "metadata": {
      "needs_background": "light"
     },
     "output_type": "display_data"
    }
   ],
   "source": [
    "history_df = pd.DataFrame(history.history)\n",
    "\n",
    "history_df[['loss', 'val_loss']].plot(figsize=(8, 5))\n",
    "plt.grid(True)\n",
    "plt.xticks(range(7))\n",
    "plt.xlabel('Epochs')\n",
    "plt.ylabel('Score')\n",
    "\n",
    "history_df[['accuracy', 'val_accuracy']].plot(figsize=(8, 5))\n",
    "plt.grid(True)\n",
    "plt.xticks(range(7))\n",
    "plt.xlabel('Epochs')\n",
    "plt.ylabel('Score')"
   ]
  },
  {
   "cell_type": "markdown",
   "id": "2a92fc6f-d0f8-4d8a-8360-b7f3d213bfec",
   "metadata": {},
   "source": [
    "### **Strategy 2 - Keras Callbacks**\n",
    "The `fit()` method accepts a **callbacks argument** that lets you specify a list of objects that Keras will _call_ at the _start_ and _end_ of _training_, at the _start_ and _end_ of _each epoch_, and even _before_ and _after processing each batch_.\n",
    "\n",
    "One of this callbacks is `EarlyStopping`: https://keras.io/api/callbacks/early_stopping/"
   ]
  },
  {
   "cell_type": "code",
   "execution_count": 153,
   "id": "b56922d0-a620-4fd3-a276-5d251812276d",
   "metadata": {},
   "outputs": [],
   "source": [
    "from tensorflow.keras.callbacks import EarlyStopping\n",
    "\n",
    "early_stopping_cb = EarlyStopping(patience=20, restore_best_weights=True)"
   ]
  },
  {
   "cell_type": "markdown",
   "id": "f88af7c1-987d-4f09-992d-d80384d344c7",
   "metadata": {},
   "source": [
    "We've just created an **early stopping callback** that will **interrupt** _training_ when it _measures_ **no progress** (no improvement) after 3 epochs (parameter `patience`) on the loss from the **validation set** (default parameter `monitor=\"val_loss\"`).\n",
    "\n",
    "We can now **retrain** our model from _scratch_ again, with **a large number of epochs**, since _training_ will **stop _automatically_** when _there is no more progress_. `EarlyStopping callback` will keep track of the **best weights** and _restore them_ for you at the _end of training_ (parameter `restore_best_weights=True)`)."
   ]
  },
  {
   "cell_type": "code",
   "execution_count": 154,
   "id": "4dae5f2d-6887-43d7-8809-88ee2abc60d2",
   "metadata": {},
   "outputs": [],
   "source": [
    "# creating a new model with new initial weights and biases\n",
    "model = build_first_cnn()\n",
    "\n",
    "opt = tf.keras.optimizers.SGD(learning_rate=0.05)  # just for testing\n",
    "model.compile(loss='sparse_categorical_crossentropy', optimizer=opt, metrics=['accuracy'])"
   ]
  },
  {
   "cell_type": "code",
   "execution_count": 155,
   "id": "55ec8332-b022-4603-976a-7e0da3a278d7",
   "metadata": {},
   "outputs": [
    {
     "name": "stdout",
     "output_type": "stream",
     "text": [
      "Epoch 1/200\n",
      "1250/1250 [==============================] - 3s 3ms/step - loss: 1.8174 - accuracy: 0.3445 - val_loss: 1.5593 - val_accuracy: 0.4421\n",
      "Epoch 2/200\n",
      "1250/1250 [==============================] - 3s 2ms/step - loss: 1.4015 - accuracy: 0.4972 - val_loss: 1.3470 - val_accuracy: 0.5205\n",
      "Epoch 3/200\n",
      "1250/1250 [==============================] - 3s 2ms/step - loss: 1.2355 - accuracy: 0.5636 - val_loss: 1.1957 - val_accuracy: 0.5752\n",
      "Epoch 4/200\n",
      "1250/1250 [==============================] - 3s 2ms/step - loss: 1.1124 - accuracy: 0.6061 - val_loss: 1.1367 - val_accuracy: 0.6056\n",
      "Epoch 5/200\n",
      "1250/1250 [==============================] - 3s 2ms/step - loss: 0.9972 - accuracy: 0.6483 - val_loss: 1.1420 - val_accuracy: 0.6047\n",
      "Epoch 6/200\n",
      "1250/1250 [==============================] - 3s 2ms/step - loss: 0.8900 - accuracy: 0.6873 - val_loss: 1.1100 - val_accuracy: 0.6205\n",
      "Epoch 7/200\n",
      "1250/1250 [==============================] - 3s 2ms/step - loss: 0.7858 - accuracy: 0.7228 - val_loss: 1.2996 - val_accuracy: 0.5858\n",
      "Epoch 8/200\n",
      "1250/1250 [==============================] - 3s 2ms/step - loss: 0.6854 - accuracy: 0.7590 - val_loss: 1.1509 - val_accuracy: 0.6317\n",
      "Epoch 9/200\n",
      "1250/1250 [==============================] - 3s 2ms/step - loss: 0.5839 - accuracy: 0.7929 - val_loss: 1.2330 - val_accuracy: 0.6196\n",
      "Epoch 10/200\n",
      "1250/1250 [==============================] - 3s 2ms/step - loss: 0.4983 - accuracy: 0.8259 - val_loss: 1.3630 - val_accuracy: 0.6131\n",
      "Epoch 11/200\n",
      "1250/1250 [==============================] - 3s 2ms/step - loss: 0.4275 - accuracy: 0.8485 - val_loss: 1.4150 - val_accuracy: 0.6150\n",
      "Epoch 12/200\n",
      "1250/1250 [==============================] - 3s 2ms/step - loss: 0.3676 - accuracy: 0.8734 - val_loss: 1.5878 - val_accuracy: 0.6129\n",
      "Epoch 13/200\n",
      "1250/1250 [==============================] - 3s 2ms/step - loss: 0.3167 - accuracy: 0.8886 - val_loss: 1.7927 - val_accuracy: 0.6064\n",
      "Epoch 14/200\n",
      "1250/1250 [==============================] - 3s 2ms/step - loss: 0.2653 - accuracy: 0.9064 - val_loss: 1.8438 - val_accuracy: 0.6089\n",
      "Epoch 15/200\n",
      "1250/1250 [==============================] - 3s 2ms/step - loss: 0.2358 - accuracy: 0.9189 - val_loss: 1.9323 - val_accuracy: 0.6103\n",
      "Epoch 16/200\n",
      "1250/1250 [==============================] - 3s 2ms/step - loss: 0.2183 - accuracy: 0.9251 - val_loss: 2.1033 - val_accuracy: 0.6054\n",
      "Epoch 17/200\n",
      "1250/1250 [==============================] - 3s 2ms/step - loss: 0.1950 - accuracy: 0.9325 - val_loss: 2.1501 - val_accuracy: 0.6078\n",
      "Epoch 18/200\n",
      "1250/1250 [==============================] - 3s 2ms/step - loss: 0.1871 - accuracy: 0.9355 - val_loss: 2.4810 - val_accuracy: 0.5787\n",
      "Epoch 19/200\n",
      "1250/1250 [==============================] - 3s 2ms/step - loss: 0.1795 - accuracy: 0.9392 - val_loss: 2.3210 - val_accuracy: 0.6187\n",
      "Epoch 20/200\n",
      "1250/1250 [==============================] - 3s 2ms/step - loss: 0.1387 - accuracy: 0.9537 - val_loss: 2.5646 - val_accuracy: 0.6004\n",
      "Epoch 21/200\n",
      "1250/1250 [==============================] - 3s 2ms/step - loss: 0.1337 - accuracy: 0.9566 - val_loss: 2.5611 - val_accuracy: 0.5962\n",
      "Epoch 22/200\n",
      "1250/1250 [==============================] - 3s 2ms/step - loss: 0.1281 - accuracy: 0.9572 - val_loss: 2.6352 - val_accuracy: 0.6128\n",
      "Epoch 23/200\n",
      "1250/1250 [==============================] - 3s 2ms/step - loss: 0.1146 - accuracy: 0.9620 - val_loss: 2.7731 - val_accuracy: 0.6033\n",
      "Epoch 24/200\n",
      "1250/1250 [==============================] - 3s 2ms/step - loss: 0.1055 - accuracy: 0.9660 - val_loss: 2.6549 - val_accuracy: 0.5997\n",
      "Epoch 25/200\n",
      "1250/1250 [==============================] - 3s 2ms/step - loss: 0.1097 - accuracy: 0.9645 - val_loss: 2.8285 - val_accuracy: 0.6067\n",
      "Epoch 26/200\n",
      "1250/1250 [==============================] - 3s 2ms/step - loss: 0.1117 - accuracy: 0.9638 - val_loss: 2.8879 - val_accuracy: 0.6140\n"
     ]
    }
   ],
   "source": [
    "history = model.fit(X_train, y_train, epochs=200, batch_size=32, validation_split=0.2, callbacks=[early_stopping_cb])"
   ]
  },
  {
   "cell_type": "code",
   "execution_count": 156,
   "id": "4f83cdc3-797b-42d5-b5e6-822f047d2655",
   "metadata": {},
   "outputs": [
    {
     "data": {
      "text/plain": [
       "Text(0, 0.5, 'Score')"
      ]
     },
     "execution_count": 156,
     "metadata": {},
     "output_type": "execute_result"
    },
    {
     "data": {
      "image/png": "[encoded data removed]",
      "text/plain": [
       "<Figure size 576x360 with 1 Axes>"
      ]
     },
     "metadata": {
      "needs_background": "light"
     },
     "output_type": "display_data"
    },
    {
     "data": {
      "image/png": "[encoded data removed]",
      "text/plain": [
       "<Figure size 576x360 with 1 Axes>"
      ]
     },
     "metadata": {
      "needs_background": "light"
     },
     "output_type": "display_data"
    }
   ],
   "source": [
    "history_df = pd.DataFrame(history.history)\n",
    "\n",
    "history_df[['loss', 'val_loss']].plot(figsize=(8, 5))\n",
    "plt.grid(True)\n",
    "plt.xlabel('Epochs')\n",
    "plt.ylabel('Score')\n",
    "\n",
    "history_df[['accuracy', 'val_accuracy']].plot(figsize=(8, 5))\n",
    "plt.grid(True)\n",
    "plt.xlabel('Epochs')\n",
    "plt.ylabel('Score')"
   ]
  },
  {
   "cell_type": "markdown",
   "id": "7c9171e0-dd03-4626-8294-6d5083b46782",
   "metadata": {},
   "source": [
    "##### **More about Keras callbacks**\n",
    "https://keras.io/api/callbacks/"
   ]
  },
  {
   "cell_type": "markdown",
   "id": "455ca1cb-20b5-439b-8240-e511abb305c7",
   "metadata": {},
   "source": [
    "## 5. Evaluating and Predicting New Samples with the Regularized model"
   ]
  },
  {
   "cell_type": "markdown",
   "id": "90c3efb4-100a-4bd6-855c-eaff853061bb",
   "metadata": {},
   "source": [
    "#### **Evaluation**\n",
    "https://www.tensorflow.org/api_docs/python/tf/keras/Sequential#evaluate"
   ]
  },
  {
   "cell_type": "code",
   "execution_count": 157,
   "id": "40ebe5b1-e911-49b2-8b26-af5907e7a0b6",
   "metadata": {},
   "outputs": [
    {
     "name": "stdout",
     "output_type": "stream",
     "text": [
      "313/313 [==============================] - 0s 1ms/step - loss: 1.1354 - accuracy: 0.6101\n"
     ]
    },
    {
     "data": {
      "text/plain": [
       "[1.135356068611145, 0.6100999712944031]"
      ]
     },
     "execution_count": 157,
     "metadata": {},
     "output_type": "execute_result"
    }
   ],
   "source": [
    "model.evaluate(X_test, y_test)"
   ]
  },
  {
   "cell_type": "markdown",
   "id": "d98be7ac-6555-4a0b-8e04-35853317f92f",
   "metadata": {},
   "source": [
    "#### **Prediction**\n",
    "https://www.tensorflow.org/api_docs/python/tf/keras/Sequential#predict"
   ]
  },
  {
   "cell_type": "code",
   "execution_count": 158,
   "id": "9c26bd61-fb42-4d7b-b3d2-f3b985204e3f",
   "metadata": {},
   "outputs": [
    {
     "name": "stdout",
     "output_type": "stream",
     "text": [
      "313/313 [==============================] - 0s 1ms/step\n"
     ]
    },
    {
     "data": {
      "text/plain": [
       "array([[5.5899560e-02, 2.7126150e-02, 7.7984855e-02, ..., 3.9854674e-03,\n",
       "        6.3370788e-03, 1.2350202e-02],\n",
       "       [5.3774823e-02, 3.1502610e-01, 3.5483844e-04, ..., 1.8802340e-05,\n",
       "        4.9049428e-01, 1.4006396e-01],\n",
       "       [2.0507915e-01, 3.6565998e-01, 2.5243100e-03, ..., 5.9554179e-04,\n",
       "        3.6408597e-01, 5.4979973e-02],\n",
       "       ...,\n",
       "       [3.1301079e-04, 5.4961361e-06, 1.7556114e-02, ..., 3.8012270e-02,\n",
       "        7.0068578e-05, 1.6829646e-05],\n",
       "       [5.7028779e-03, 3.8869572e-01, 5.8892169e-03, ..., 1.8941822e-02,\n",
       "        2.4996658e-03, 2.3044180e-03],\n",
       "       [6.6706939e-06, 2.5623333e-07, 3.2448108e-04, ..., 9.9217343e-01,\n",
       "        9.9336910e-07, 1.2006327e-06]], dtype=float32)"
      ]
     },
     "execution_count": 158,
     "metadata": {},
     "output_type": "execute_result"
    }
   ],
   "source": [
    "y_test_proba = model.predict(X_test)\n",
    "y_test_proba"
   ]
  },
  {
   "cell_type": "markdown",
   "id": "4fc787ee-b863-4311-8b0b-ceee0ed17a5f",
   "metadata": {},
   "source": [
    "#### **Class Prediction**\n",
    "https://stackoverflow.com/a/69503180/7069696"
   ]
  },
  {
   "cell_type": "code",
   "execution_count": 159,
   "id": "9183a85a-49db-4748-9f7a-fc9e7cd29683",
   "metadata": {},
   "outputs": [
    {
     "data": {
      "text/plain": [
       "array([3, 8, 1, ..., 5, 4, 7])"
      ]
     },
     "execution_count": 159,
     "metadata": {},
     "output_type": "execute_result"
    }
   ],
   "source": [
    "y_test_pred = np.argmax(y_test_proba, axis=1)\n",
    "y_test_pred"
   ]
  },
  {
   "cell_type": "code",
   "execution_count": 160,
   "id": "bec34b88-5c94-45a5-a97d-ee7e21be268a",
   "metadata": {},
   "outputs": [
    {
     "name": "stdout",
     "output_type": "stream",
     "text": [
      "              precision    recall  f1-score   support\n",
      "\n",
      "    airplane       0.63      0.69      0.66      1000\n",
      "  automobile       0.72      0.73      0.72      1000\n",
      "        bird       0.55      0.47      0.50      1000\n",
      "         cat       0.49      0.32      0.39      1000\n",
      "        deer       0.55      0.51      0.53      1000\n",
      "         dog       0.46      0.62      0.53      1000\n",
      "        frog       0.75      0.65      0.70      1000\n",
      "       horse       0.59      0.76      0.67      1000\n",
      "        ship       0.81      0.62      0.70      1000\n",
      "       truck       0.63      0.73      0.67      1000\n",
      "\n",
      "    accuracy                           0.61     10000\n",
      "   macro avg       0.62      0.61      0.61     10000\n",
      "weighted avg       0.62      0.61      0.61     10000\n",
      "\n"
     ]
    }
   ],
   "source": [
    "from sklearn.metrics import classification_report\n",
    "\n",
    "print(classification_report(y_test, y_test_pred, target_names=[name for name in class_names]))"
   ]
  },
  {
   "cell_type": "markdown",
   "id": "604cd8e4-3d27-4128-8ad2-64a9ba4d6af2",
   "metadata": {},
   "source": [
    "The resulting _accuracy_ on the **testing set** keeps **poor** but slightly better than using the overfitted model."
   ]
  },
  {
   "cell_type": "markdown",
   "id": "e6a3a7db-b0f5-4638-a074-1134538ad1b5",
   "metadata": {
    "tags": []
   },
   "source": [
    "# Exercise"
   ]
  },
  {
   "cell_type": "markdown",
   "id": "79ee7ec6-30c1-4285-a43e-1dbef982d66f",
   "metadata": {},
   "source": [
    "Repeat the experiments considering different:\n",
    "-  values for _learning_rate_ of SGD\n",
    "- optimizers (e.g., 'nadam')\n",
    "- kernel regularizer (e.g., 'l2')"
   ]
  },
  {
   "cell_type": "markdown",
   "id": "dc857297-0dea-4aed-b26b-7e47b08a5578",
   "metadata": {},
   "source": [
    "## 6. Extracting the bottleneck model"
   ]
  },
  {
   "cell_type": "code",
   "execution_count": 170,
   "id": "a652e2be-bdb0-4be3-a37c-23e6fd77f778",
   "metadata": {},
   "outputs": [
    {
     "name": "stdout",
     "output_type": "stream",
     "text": [
      "Model: \"bottleneck\"\n",
      "_________________________________________________________________\n",
      " Layer (type)                Output Shape              Param #   \n",
      "=================================================================\n",
      " input_16 (InputLayer)       [(None, 32, 32, 3)]       0         \n",
      "                                                                 \n",
      " conv2d_34 (Conv2D)          (None, 29, 29, 32)        1568      \n",
      "                                                                 \n",
      " max_pooling2d_20 (MaxPoolin  (None, 14, 14, 32)       0         \n",
      " g2D)                                                            \n",
      "                                                                 \n",
      " conv2d_35 (Conv2D)          (None, 11, 11, 32)        16416     \n",
      "                                                                 \n",
      " flatten_17 (Flatten)        (None, 3872)              0         \n",
      "                                                                 \n",
      " dense_40 (Dense)            (None, 120)               464760    \n",
      "                                                                 \n",
      " bottleneck_layer (Dense)    (None, 84)                10164     \n",
      "                                                                 \n",
      "=================================================================\n",
      "Total params: 492,908\n",
      "Trainable params: 492,908\n",
      "Non-trainable params: 0\n",
      "_________________________________________________________________\n"
     ]
    }
   ],
   "source": [
    "import tensorflow.keras.models as models\n",
    "# bottleneck model\n",
    "bottleneck_output = model.get_layer('bottleneck_layer').output\n",
    "model_bottleneck = models.Model(inputs = model.input, outputs = bottleneck_output, name = \"bottleneck\")\n",
    "model_bottleneck.summary()"
   ]
  },
  {
   "cell_type": "markdown",
   "id": "e3e0590d-2add-43cd-babe-b5a67b134977",
   "metadata": {},
   "source": [
    "#### Save the bottleneck model"
   ]
  },
  {
   "cell_type": "code",
   "execution_count": 1,
   "id": "eeec929b-100c-4d19-a3cb-7346b32a44da",
   "metadata": {},
   "outputs": [
    {
     "ename": "NameError",
     "evalue": "name 'classifier_model' is not defined",
     "output_type": "error",
     "traceback": [
      "\u001b[0;31m---------------------------------------------------------------------------\u001b[0m",
      "\u001b[0;31mNameError\u001b[0m                                 Traceback (most recent call last)",
      "\u001b[0;32m/tmp/ipykernel_78600/3077728883.py\u001b[0m in \u001b[0;36m<module>\u001b[0;34m\u001b[0m\n\u001b[1;32m      2\u001b[0m \u001b[0msaved_model_path\u001b[0m \u001b[0;34m=\u001b[0m \u001b[0;34m'./{}'\u001b[0m\u001b[0;34m.\u001b[0m\u001b[0mformat\u001b[0m\u001b[0;34m(\u001b[0m\u001b[0mdataset_name\u001b[0m\u001b[0;34m)\u001b[0m\u001b[0;34m\u001b[0m\u001b[0;34m\u001b[0m\u001b[0m\n\u001b[1;32m      3\u001b[0m \u001b[0;34m\u001b[0m\u001b[0m\n\u001b[0;32m----> 4\u001b[0;31m \u001b[0mclassifier_model\u001b[0m\u001b[0;34m.\u001b[0m\u001b[0msave\u001b[0m\u001b[0;34m(\u001b[0m\u001b[0msaved_model_path\u001b[0m\u001b[0;34m,\u001b[0m \u001b[0minclude_optimizer\u001b[0m\u001b[0;34m=\u001b[0m\u001b[0;32mFalse\u001b[0m\u001b[0;34m)\u001b[0m\u001b[0;34m\u001b[0m\u001b[0;34m\u001b[0m\u001b[0m\n\u001b[0m",
      "\u001b[0;31mNameError\u001b[0m: name 'classifier_model' is not defined"
     ]
    }
   ],
   "source": [
    "dataset_name = 'base_model'\n",
    "saved_model_path = './{}'.format(dataset_name)\n",
    "\n",
    "classifier_model.save(saved_model_path, include_optimizer=False)"
   ]
  },
  {
   "cell_type": "code",
   "execution_count": null,
   "id": "49a7bf55-78c6-4dd9-a9f4-6a88ef90a60e",
   "metadata": {},
   "outputs": [],
   "source": []
  }
 ],
 "metadata": {
  "kernelspec": {
   "display_name": "Python 3 (ipykernel)",
   "language": "python",
   "name": "python3"
  },
  "language_info": {
   "codemirror_mode": {
    "name": "ipython",
    "version": 3
   },
   "file_extension": ".py",
   "mimetype": "text/x-python",
   "name": "python",
   "nbconvert_exporter": "python",
   "pygments_lexer": "ipython3",
   "version": "3.8.10"
  }
 },
 "nbformat": 4,
 "nbformat_minor": 5
}
